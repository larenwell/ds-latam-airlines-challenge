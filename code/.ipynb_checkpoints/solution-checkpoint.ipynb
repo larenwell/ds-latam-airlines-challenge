{
 "cells": [
  {
   "cell_type": "markdown",
   "metadata": {
    "id": "hYApawMUimxj"
   },
   "source": [
    "# LATAM Airlines\n",
    "\n",
    "**\"Probabilidad de atraso de los vuelos que aterriza o despegan\"**\n",
    "\n",
    "El problema consiste en predecir la probabilidad de atraso de los vuelos que aterrizan o despegan del aeropuerto de Santiago de Chile (SCL).\n",
    "\n",
    "Para eso les entregamos un dataset usando datos públicos y reales donde cada fila corresponde a un vuelo que aterrizó o despegó de SCL."
   ]
  },
  {
   "cell_type": "markdown",
   "metadata": {
    "id": "fsLtKlhpMcfI"
   },
   "source": [
    "# Instalar las dependencias\n"
   ]
  },
  {
   "cell_type": "code",
   "execution_count": null,
   "metadata": {
    "id": "wHUmmLf3MfLT"
   },
   "outputs": [
    {
     "name": "stdout",
     "output_type": "stream",
     "text": [
      "Defaulting to user installation because normal site-packages is not writeable\n",
      "Requirement already satisfied: ipython>=5.5.0 in /home/laren.osorio/.local/lib/python3.7/site-packages (from -r requirements.txt (line 2)) (7.31.1)\n",
      "Collecting ipywidgets>=7.6.5\n"
     ]
    }
   ],
   "source": [
    "!pip install -r requirements.txt"
   ]
  },
  {
   "cell_type": "code",
   "execution_count": null,
   "metadata": {
    "colab": {
     "base_uri": "https://localhost:8080/"
    },
    "id": "tBLKHSwzMoVg",
    "outputId": "bbfe8864-9401-46d5-ad00-36aeb51643b9"
   },
   "outputs": [],
   "source": [
    "#!pip install pycaret"
   ]
  },
  {
   "cell_type": "markdown",
   "metadata": {
    "id": "Own9-A_zjQCv"
   },
   "source": [
    "# Entendimiento inicial de los datos"
   ]
  },
  {
   "cell_type": "markdown",
   "metadata": {
    "id": "2ZmX99_IjS-G"
   },
   "source": [
    "## Cargar Librerias"
   ]
  },
  {
   "cell_type": "code",
   "execution_count": null,
   "metadata": {
    "id": "LVA-jyO1jHDH"
   },
   "outputs": [],
   "source": [
    "%matplotlib inline\n",
    "\n",
    "import re\n",
    "import random\n",
    "from collections import Counter\n",
    "\n",
    "import numpy as np\n",
    "import pandas as pd\n",
    "pd.set_option('max_columns', 100)\n",
    "pd.set_option('max_rows', 1000)\n",
    "\n",
    "from scipy.stats import kstest\n",
    "\n",
    "import matplotlib.pyplot as plt\n",
    "import seaborn as sns\n",
    "#sns.set(color_codes=True)\n",
    "sns.set(style='darkgrid')\n",
    "\n",
    "from graphviz import Source\n",
    "from sklearn.tree import export_graphviz\n",
    "from IPython.display import SVG\n",
    "\n",
    "from sklearn.preprocessing import StandardScaler, MinMaxScaler,OrdinalEncoder\n",
    "\n",
    "#from pycaret.classification import *\n",
    "\n",
    "from sklearn.model_selection import train_test_split,cross_val_score,StratifiedKFold,GridSearchCV,ParameterGrid\n",
    "\n",
    "from sklearn.neighbors import KNeighborsClassifier\n",
    "from sklearn.tree import DecisionTreeClassifier\n",
    "from sklearn.linear_model import LogisticRegression\n",
    "from sklearn.ensemble import RandomForestClassifier\n",
    "import xgboost as xgb\n",
    "\n",
    "from sklearn import metrics as mt\n",
    "from sklearn.metrics import  roc_curve, auc, silhouette_score, recall_score, precision_score, confusion_matrix, accuracy_score"
   ]
  },
  {
   "cell_type": "markdown",
   "metadata": {
    "id": "xNjjVbzFkppg"
   },
   "source": [
    "## Definición de funciones"
   ]
  },
  {
   "cell_type": "code",
   "execution_count": null,
   "metadata": {
    "id": "WO4AfyQNjdWm"
   },
   "outputs": [],
   "source": [
    "def cross_target(data,var,target):\n",
    "    \"\"\"Calcula los porcentajes de conversión del target por cada categoria de la variable\"\"\"\n",
    "    \n",
    "    base = data[[var,target]]#.fillna(\"NULOS\")\n",
    "    print(\"----------------------------------------------------------------\")\n",
    "    print(\"---- Var: \",var)\n",
    "    print(pd.concat([pd.DataFrame(base[:][var].value_counts(dropna=False).index, columns = ['Atributo']),\n",
    "           pd.DataFrame(base[:][var].value_counts(dropna=False).values, columns = ['Cantidad']),\n",
    "           pd.DataFrame(100*base[:][var].value_counts(dropna=False).values/len(base), columns = ['%Total'])], axis = 1))\n",
    "    \n",
    "    temp = pd.DataFrame(np.array(base.groupby(var, as_index = False, axis = 0)[target].mean()), \n",
    "                         columns = [var,\"% ratio_conv\"])\n",
    "    temp[\"% ratio_conv\"] = temp[\"% ratio_conv\"]*100\n",
    "    temp = temp.sort_values(by = ['% ratio_conv'], ascending = [False])\n",
    "    print(\"\")\n",
    "    print(temp)\n",
    "\n",
    "\n",
    "def plot_graph_initial(df, meta):\n",
    "  \"\"\"Graficos para el analisis univariado\"\"\"\n",
    "  \n",
    "  import matplotlib\n",
    "  matplotlib.rcParams.update({'font.size': 16})\n",
    "  for i in range(len(meta)) :\n",
    "      plt.figure(figsize=(35,7))\n",
    "      v=meta.iloc[i].variable #print(meta.iloc[i].variable)\n",
    "      t=meta.iloc[i].tipo\n",
    "      if (t.__class__.__name__==\"CategoricalDtype\"):\n",
    "          fa=df[v].value_counts() \n",
    "          fr=fa/len(df[v]) \n",
    "          #Barras\n",
    "          plt.subplot(1,2,1)\n",
    "          plt.bar(fa.index,fa)\n",
    "          plt.xticks(fa.index,rotation=90)\n",
    "          plt.title(v)\n",
    "          #Pie\n",
    "          plt.subplot(1,2,2)\n",
    "          plt.pie(fr,autopct='%1.1f%%', shadow=True, startangle=90)\n",
    "          plt.legend(fr.index,loc=\"center left\",bbox_to_anchor=(1, 0, 0.5, 1))\n",
    "          plt.title(v)\n",
    "          #Guardar\n",
    "          #plt.savefig(v+\".jpg\")\n",
    "\n",
    "      else:\n",
    "          #Histograma\n",
    "          plt.subplot(1,2,1)\n",
    "          plt.hist(df[v].dropna(),bins=100)\n",
    "          plt.title(v)\n",
    "          #Boxplot\n",
    "          plt.subplot(1,2,2)\n",
    "          plt.boxplot(df[v])\n",
    "          plt.title(v)\n",
    "          #Guardar\n",
    "          #plt.savefig(v+\".jpg\")\n",
    "      plt.show()\n",
    "\n",
    "\n",
    "def plot_graph_bivariable(df2, meta, y):\n",
    "  \"\"\"Graficos para el analisis bivariado\"\"\"\n",
    "  \n",
    "  import matplotlib\n",
    "  matplotlib.rcParams.update({'font.size': 16})\n",
    "  for i in range(len(meta)) :\n",
    "      plt.figure(figsize=(35,7))\n",
    "      v=meta.iloc[i].variable #print(meta.iloc[i].variable)\n",
    "      t=meta.iloc[i].tipo\n",
    "      if v==y: break\n",
    "      print(v)\n",
    "      if (t.__class__.__name__==\"CategoricalDtype\"):        \n",
    "          g=df2.groupby([df2[y],v]).size().unstack(0)\n",
    "          tf= g[1]/(g[0]+g[1])\n",
    "          #tf=tf.sort_values(ascending=False)\n",
    "          c1 = g[0]\n",
    "          c2 = g[1]\n",
    "          width = 0.9   # the width of the bars: can also be len(x) sequence\n",
    "\n",
    "          p1 = plt.bar(g.index, c1, width)\n",
    "          p2 = plt.bar(g.index, c2, width,bottom=c1)\n",
    "\n",
    "          plt.ylabel('Freq')\n",
    "          plt.title('Bivariado')\n",
    "          plt.xticks(g.index,rotation=90)\n",
    "          plt.legend((p1[0], p2[0]), ('0', '1'),loc='lower left',bbox_to_anchor=(1, 1))\n",
    "\n",
    "          plt.twinx().plot(tf.values,linestyle='-', linewidth=2.0,color='red',marker =\"o\")\n",
    "          plt.ylabel(y)\n",
    "          #Guardar\n",
    "          #plt.savefig(\"Bivariado_\"+ v + \".jpg\")\n",
    "      else:\n",
    "          d=pd.qcut(df2[v], 10, duplicates='drop',labels=False)     \n",
    "          g=df2.groupby([y, d]).size().unstack(0)   \n",
    "          N = len(g)\n",
    "          mMeans = g[0]\n",
    "          wMeans = g[1]\n",
    "          tf= g[1]/(g[0]+g[1])\n",
    "          ind = np.arange(N)    # the x locations for the groups\n",
    "\n",
    "          width = 0.9       # the width of the bars: can also be len(x) sequence        \n",
    "          p1 = plt.bar(ind, mMeans, width)\n",
    "          p2 = plt.bar(ind, wMeans, width,\n",
    "                       bottom=mMeans)\n",
    "\n",
    "          plt.ylabel('Freq')\n",
    "          plt.xlabel(\"Deciles \" + v)\n",
    "          plt.title('Bivariado: ' + v + \" vs \" + y)\n",
    "          plt.xticks(ind, np.arange(1,10,1),rotation=90)\n",
    "          plt.legend((p1[0], p2[0]), ('0', '1'),loc='lower left',bbox_to_anchor=(1, 1))\n",
    "\n",
    "          plt.twinx().plot(tf.values,linestyle='-', linewidth=2.0,color='red')\n",
    "          plt.ylabel(y)\n",
    "          #Guardar\n",
    "          #plt.savefig(\"Bivariado_\"+ v + \".jpg\")\n",
    "      plt.show()\n",
    "\n",
    "\n",
    "\n",
    "def fx_porc_missings(data, only_missings = False):\n",
    "    \"\"\"Calcula los porcentajes de valores vacios en cada variable\"\"\"\n",
    "    \n",
    "    df_vars_missings = pd.concat([pd.DataFrame(data.isnull().sum(), columns = ['n_nulos']),\n",
    "           pd.DataFrame(100*data.isnull().sum()/len(data), columns = ['%Total'])], axis = 1)\n",
    "    if only_missings:\n",
    "        return(df_vars_missings[df_vars_missings[\"n_nulos\"]!=0])\n",
    "    else:\n",
    "        return(df_vars_missings)\n",
    "\n",
    "\n",
    "def clean_outlier_perc(df, column, value_perc):\n",
    "  \"\"\"Genera el reemplazo de valores outliers superiores por un percentile personalizado\"\"\"\n",
    "  \n",
    "  top_value = df[column].quantile(value_perc) \n",
    "  df.loc[df[column] >= top_value, column] = top_value\n",
    "\n",
    "\n",
    "def correlation_heatmap(df):\n",
    "    \"\"\"Función para plotear las correlaciones de las variables de un dataset\"\"\"\n",
    "    \n",
    "    _ , ax = plt.subplots(figsize =(20, 18))\n",
    "    colormap = sns.diverging_palette(220, 10, as_cmap = True)\n",
    "    \n",
    "    _ = sns.heatmap(\n",
    "        df.corr(), \n",
    "        cmap = colormap,\n",
    "        square=True, \n",
    "        cbar_kws={'shrink':.9 }, \n",
    "        ax=ax,\n",
    "        annot=True, \n",
    "        linewidths=0.1,vmax=1.0, linecolor='white',\n",
    "        annot_kws={'fontsize':12 }\n",
    "    )\n",
    "    plt.title('Pearson Correlation of Features', y=1.05, size=15)\n"
   ]
  },
  {
   "cell_type": "markdown",
   "metadata": {
    "id": "GVIOveuplzxB"
   },
   "source": [
    "## Lectura y validación de datos"
   ]
  },
  {
   "cell_type": "markdown",
   "metadata": {
    "id": "MDfO42YY5Zac"
   },
   "source": [
    "Ruta donde se encuentra alojado el dataset del caso"
   ]
  },
  {
   "cell_type": "code",
   "execution_count": null,
   "metadata": {
    "id": "LtBOPjfH5Bsi"
   },
   "outputs": [],
   "source": [
    "url_data='../data/'"
   ]
  },
  {
   "cell_type": "markdown",
   "metadata": {
    "id": "R15XzHkQ5dZz"
   },
   "source": [
    "**Lectura y carga de la data**"
   ]
  },
  {
   "cell_type": "code",
   "execution_count": null,
   "metadata": {
    "id": "yQifFTbrmUrN"
   },
   "outputs": [],
   "source": [
    "dfVuelos=pd.read_csv(url_data+'dataset_SCL.csv', na_values='?', low_memory=False)"
   ]
  },
  {
   "cell_type": "markdown",
   "metadata": {
    "id": "1GRuCnRhmrKX"
   },
   "source": [
    "**Validar la correcta lectura del dataframe**"
   ]
  },
  {
   "cell_type": "markdown",
   "metadata": {
    "id": "nDBoR9u_AGj_"
   },
   "source": [
    "Se observa que se tienen **68206 filas** y **18 columnas** de los tipos int64(3), object(15). Se tiene que modificar el tipo de dato de las variables **Fecha-I** y **Fecha-O** para su posterior tratamiento"
   ]
  },
  {
   "cell_type": "code",
   "execution_count": null,
   "metadata": {
    "colab": {
     "base_uri": "https://localhost:8080/"
    },
    "id": "-AfGXFoe_1PU",
    "outputId": "99d69a5d-8524-424b-d6e4-522c82d48702"
   },
   "outputs": [],
   "source": [
    "dfVuelos.info()"
   ]
  },
  {
   "cell_type": "markdown",
   "metadata": {
    "id": "V474fx9WzxLt"
   },
   "source": [
    "Mostrar los 5 primeros registros"
   ]
  },
  {
   "cell_type": "code",
   "execution_count": null,
   "metadata": {
    "colab": {
     "base_uri": "https://localhost:8080/",
     "height": 206
    },
    "id": "Xn1qDeEemmYP",
    "outputId": "01819989-c15b-4cd6-db05-243524a3721a"
   },
   "outputs": [],
   "source": [
    "dfVuelos.head(5)"
   ]
  },
  {
   "cell_type": "markdown",
   "metadata": {
    "id": "rR6cst4N4s0D"
   },
   "source": [
    "## Estudiar las dimensiones del dataset"
   ]
  },
  {
   "cell_type": "code",
   "execution_count": null,
   "metadata": {
    "colab": {
     "base_uri": "https://localhost:8080/"
    },
    "id": "_3dSw0Cl26mj",
    "outputId": "9b6c2bfb-8003-47f0-c64e-751a13dcb851"
   },
   "outputs": [],
   "source": [
    "dfVuelos.shape"
   ]
  },
  {
   "cell_type": "markdown",
   "metadata": {
    "id": "reGVudb_W6x-"
   },
   "source": [
    "Se tienen 68206 filas y 18 columnas"
   ]
  },
  {
   "cell_type": "code",
   "execution_count": null,
   "metadata": {
    "colab": {
     "base_uri": "https://localhost:8080/"
    },
    "id": "cftjHqqJ4vMx",
    "outputId": "df416c22-3b63-4494-eb12-00e5b8f66235"
   },
   "outputs": [],
   "source": [
    "dfVuelos.size"
   ]
  },
  {
   "cell_type": "markdown",
   "metadata": {
    "id": "sbehtalH4_DL"
   },
   "source": [
    "No se tiene un **id** correspondiente a cada vuelo. Como parte de las indicaciones cada fila corresponde a un vuelo que aterrizó o despegó de SCL, por lo que cada fila será tomado como un único registro"
   ]
  },
  {
   "cell_type": "markdown",
   "metadata": {
    "id": "17g2AX7w5deG"
   },
   "source": [
    "## Evaluar el tipo de Problema"
   ]
  },
  {
   "cell_type": "markdown",
   "metadata": {
    "id": "oY440VeH6n39"
   },
   "source": [
    "**Vemos que es un caso de aprendizaje supervisado de clasificación para predecir la probabilidad de atraso de los vuelos que aterrizan o despegan del aeropuerto de Santiago de Chile (SCL)**"
   ]
  },
  {
   "cell_type": "code",
   "execution_count": null,
   "metadata": {
    "colab": {
     "base_uri": "https://localhost:8080/",
     "height": 0
    },
    "id": "gXOLaEGRPvgO",
    "outputId": "8987d901-3c78-48bc-b668-6cf5dbfafa13"
   },
   "outputs": [],
   "source": [
    "dfVuelos.head(3)"
   ]
  },
  {
   "cell_type": "markdown",
   "metadata": {
    "id": "vDMCpdrm6213"
   },
   "source": [
    "## Variable Objetivo"
   ]
  },
  {
   "cell_type": "markdown",
   "metadata": {
    "id": "kt10R-dt7FHu"
   },
   "source": [
    "**Armado del target**\n",
    "\n",
    "Se debe construir el target **atraso_15** en base a una nueva variable llamada **dif_min**. La definición del target obedece:\n",
    "\n",
    "*   dif_min<15    : Si la diferencia en minutos entre Fecha-O y Fecha-I es menor de 15 minutos entonces atraso_15=0\n",
    "*   dif_min>15    : Si la diferencia en minutos entre Fecha-O y Fecha-I es mayor de 15 minutos entonces atraso_15=1\n",
    "\n",
    "Finalmente tomando en cuenta una diferencia de 15 min se construye el target **atraso_15**. Esta variable **bivariada** será usada para predecir si un vuelo se retrasa o no."
   ]
  },
  {
   "cell_type": "markdown",
   "metadata": {
    "id": "BrVGPx8kxoGb"
   },
   "source": [
    "Se convierten los campos **Fecha-O** y **Fecha-I** en variables del tipo *datetime* para su posterior tratamiento."
   ]
  },
  {
   "cell_type": "code",
   "execution_count": null,
   "metadata": {
    "id": "p9l796zFABxZ"
   },
   "outputs": [],
   "source": [
    "dfVuelos['Fecha-O']=pd.to_datetime(dfVuelos['Fecha-O'])\n",
    "dfVuelos['Fecha-I']=pd.to_datetime(dfVuelos['Fecha-I'])"
   ]
  },
  {
   "cell_type": "markdown",
   "metadata": {
    "id": "5-WKvv2aXwLg"
   },
   "source": [
    "Crear la variables **dif_min** tomando las variables **Fecha-O** y **Fecha-I**"
   ]
  },
  {
   "cell_type": "code",
   "execution_count": null,
   "metadata": {
    "id": "tstAK-Fo_f75"
   },
   "outputs": [],
   "source": [
    "dfVuelos['dif_min']=dfVuelos['Fecha-O']-dfVuelos['Fecha-I']\n",
    "dfVuelos['dif_min']=dfVuelos['dif_min']/np.timedelta64(1,'m')"
   ]
  },
  {
   "cell_type": "markdown",
   "metadata": {
    "id": "g1gC3o6yX0wB"
   },
   "source": [
    "Se crea la variable **atraso_15** en base a la variable **dif_min**"
   ]
  },
  {
   "cell_type": "code",
   "execution_count": null,
   "metadata": {
    "id": "644k-FyApvAG"
   },
   "outputs": [],
   "source": [
    "dfVuelos['atraso_15'] = dfVuelos['dif_min'].map(lambda x: '1' if x>15 else '0')"
   ]
  },
  {
   "cell_type": "markdown",
   "metadata": {
    "id": "kaQ01BFTxTXb"
   },
   "source": [
    "Se valida la cantidad de valores para cada categoría del target. Se observa que 12614 (**~18,4%**) corresponde el target de análisis"
   ]
  },
  {
   "cell_type": "code",
   "execution_count": null,
   "metadata": {
    "colab": {
     "base_uri": "https://localhost:8080/"
    },
    "id": "MqaS9DvyxSZ0",
    "outputId": "76246dbb-815e-487b-cea3-7a32e1fcc7b2"
   },
   "outputs": [],
   "source": [
    "# Validación\n",
    "dfVuelos['atraso_15'].value_counts()"
   ]
  },
  {
   "cell_type": "code",
   "execution_count": null,
   "metadata": {
    "colab": {
     "base_uri": "https://localhost:8080/",
     "height": 0
    },
    "id": "-YO43H3kkfw4",
    "outputId": "961e359f-6446-45a6-daf7-80f6bb1194f8"
   },
   "outputs": [],
   "source": [
    "dfVuelos[['dif_min','atraso_15']]"
   ]
  },
  {
   "cell_type": "markdown",
   "metadata": {
    "id": "coXb565mF5l1"
   },
   "source": [
    "## Describir el Dataset"
   ]
  },
  {
   "cell_type": "markdown",
   "metadata": {
    "id": "TNGOKIApzJxu"
   },
   "source": [
    "El primer alcance descriptivo de los datos es el siguiente:\n",
    "\n",
    "*   **Viernes** es el dia de la semana con más fechas programadas de vuelo. Representa el **15%**\n",
    "\n",
    "*   **Grupo LATAM** es el operador con la mayor cantidad de vuelos operados. Representa el **60%**.\n",
    "\n",
    "*   **TIPOVUELO**. Los vuelos Nacionales(N) representan el **54%** del total de vuelos\n",
    "\n",
    "*   **SIGLAORI**. Todos los vuelos salen de la ciudad de Santiago, esta variable con una única categoría será eliminada posteriormente ya que por tener **cero varianza** no aporta en el proceso de aprendizaje.\n",
    "\n",
    "*   La variable **Vlo-O** tiene un valor nulo, el resto de variables no tiene valores vacios.\n",
    "\n",
    "*   **DIANOM** que obedece al día de la semana es correspondiente al valor de la variable **DIA**. Para fines descriptivos se usará **DIANOM**\n",
    "\n",
    "*   **MES** y **AÑO** necesitan ser transformados en variables categóricas, con ello  la posibilidad de conocer el mes y el año que tiene menos y más vuelos programados y operados.\n"
   ]
  },
  {
   "cell_type": "code",
   "execution_count": null,
   "metadata": {
    "colab": {
     "base_uri": "https://localhost:8080/",
     "height": 0
    },
    "id": "kVHM2BoYD1p_",
    "outputId": "5590ab93-a9a9-4a18-8224-7f85dc816cdb"
   },
   "outputs": [],
   "source": [
    "dfVuelos.describe(include =['int64','object','float64'])"
   ]
  },
  {
   "cell_type": "markdown",
   "metadata": {
    "id": "I4CEdaY5PNCc"
   },
   "source": [
    "# Data Wrangling"
   ]
  },
  {
   "cell_type": "markdown",
   "metadata": {
    "id": "70UBHPcP2OVh"
   },
   "source": [
    "## Registros Repetidos"
   ]
  },
  {
   "cell_type": "code",
   "execution_count": null,
   "metadata": {
    "colab": {
     "base_uri": "https://localhost:8080/"
    },
    "id": "Fvns1sBk3jZz",
    "outputId": "96793c3c-098e-4b2e-85b0-3396fca19671"
   },
   "outputs": [],
   "source": [
    "dfVuelos.shape"
   ]
  },
  {
   "cell_type": "code",
   "execution_count": null,
   "metadata": {
    "id": "DaOgx23m1_Xy"
   },
   "outputs": [],
   "source": [
    "dfVuelos.drop_duplicates(inplace = True)"
   ]
  },
  {
   "cell_type": "code",
   "execution_count": null,
   "metadata": {
    "colab": {
     "base_uri": "https://localhost:8080/"
    },
    "id": "cmgfsEcw3sCV",
    "outputId": "f6e4dfa4-f6a4-40f2-abaa-dcf32df10436"
   },
   "outputs": [],
   "source": [
    "dfVuelos.shape"
   ]
  },
  {
   "cell_type": "markdown",
   "metadata": {
    "id": "40TVrDiEGEKA"
   },
   "source": [
    "## Renombramiento de variables"
   ]
  },
  {
   "cell_type": "code",
   "execution_count": null,
   "metadata": {
    "colab": {
     "base_uri": "https://localhost:8080/"
    },
    "id": "Sf49q_pO9_AH",
    "outputId": "570ca2d4-baea-43d3-caf9-9b9a3dfb3e55"
   },
   "outputs": [],
   "source": [
    "dfVuelos.columns"
   ]
  },
  {
   "cell_type": "markdown",
   "metadata": {
    "id": "t0kDNS13QLYk"
   },
   "source": [
    "Se renombra las variables para un mejor entendimiento"
   ]
  },
  {
   "cell_type": "code",
   "execution_count": null,
   "metadata": {
    "id": "yINignNJF9-4"
   },
   "outputs": [],
   "source": [
    "dfVuelos.rename(columns={\n",
    "   'Fecha-I':'fecVuelProg',\n",
    "   'Vlo-I':'nroVuelProg',\n",
    "   'Ori-I': 'codCiudadOrigProg',\n",
    "   'Des-I': 'codCiudadDestProg',\n",
    "   'Emp-I': 'codAerolineaVuelProg',\n",
    "   'Fecha-O':'fecVuelOperado',\n",
    "   'Vlo-O':'nroVuelOperado',\n",
    "   'Ori-O': 'codCiudadOrigOperado',\n",
    "   'Des-O': 'codCiudadDestOperado',\n",
    "   'Emp-O': 'codAerolineaVuelOperado',\n",
    "   'DIA': 'diaVuelOperado',\n",
    "   'MES': 'mesVuelOperado',\n",
    "   'AÑO': 'anioVuelOperado',\n",
    "   'DIANOM':'diaSemVuelOperado',\n",
    "   'TIPOVUELO': 'tipVuelo',\n",
    "   'OPERA': 'nombAerolineaOperado',\n",
    "   'SIGLAORI': 'nombCiudadOrig',\n",
    "   'SIGLADES': 'nombCiudadDest'},inplace=True)"
   ]
  },
  {
   "cell_type": "code",
   "execution_count": null,
   "metadata": {
    "colab": {
     "base_uri": "https://localhost:8080/"
    },
    "id": "KHah9TCgBM6y",
    "outputId": "c4185892-f422-4df0-e6a9-4632311d10e0"
   },
   "outputs": [],
   "source": [
    "dfVuelos.columns"
   ]
  },
  {
   "cell_type": "markdown",
   "metadata": {
    "id": "x3Kvhwg1fBax"
   },
   "source": [
    "## Remover nulos"
   ]
  },
  {
   "cell_type": "code",
   "execution_count": null,
   "metadata": {
    "colab": {
     "base_uri": "https://localhost:8080/",
     "height": 0
    },
    "id": "PoIFq-wtfG1n",
    "outputId": "0de1bf02-8b89-4834-fe75-9e7695322f5e"
   },
   "outputs": [],
   "source": [
    "fx_porc_missings(dfVuelos, only_missings=True)"
   ]
  },
  {
   "cell_type": "markdown",
   "metadata": {
    "id": "E9TDKWA5f1K1"
   },
   "source": [
    "La variable **nroVuelOperado** es una variable cualitativa. Para este caso se **imputa por su moda**"
   ]
  },
  {
   "cell_type": "code",
   "execution_count": null,
   "metadata": {
    "colab": {
     "base_uri": "https://localhost:8080/",
     "height": 0
    },
    "id": "jTGaXoSNgYKw",
    "outputId": "af3fe43f-2fdd-420a-96f1-09ceabd17d48"
   },
   "outputs": [],
   "source": [
    "dfVuelos['nroVuelOperado'].mode()[0]"
   ]
  },
  {
   "cell_type": "code",
   "execution_count": null,
   "metadata": {
    "id": "bfGf-iaufG4A"
   },
   "outputs": [],
   "source": [
    "dfVuelos['nroVuelOperado'].fillna(dfVuelos['nroVuelOperado'].mode()[0],inplace=True)"
   ]
  },
  {
   "cell_type": "markdown",
   "metadata": {
    "id": "_9YH7FnWfyTf"
   },
   "source": [
    "Se observan que todo el dataframe no contiene variables con valores nulos"
   ]
  },
  {
   "cell_type": "code",
   "execution_count": null,
   "metadata": {
    "colab": {
     "base_uri": "https://localhost:8080/",
     "height": 0
    },
    "id": "gMG4-uILfEwd",
    "outputId": "789535b0-5925-416b-9f00-5d2cbac5a45a"
   },
   "outputs": [],
   "source": [
    "fx_porc_missings(dfVuelos, only_missings=True)"
   ]
  },
  {
   "cell_type": "markdown",
   "metadata": {
    "id": "DuKMVqYcO3kT"
   },
   "source": [
    "## Creación de nuevas variables"
   ]
  },
  {
   "cell_type": "markdown",
   "metadata": {
    "id": "OsNnLy_RCH-d"
   },
   "source": [
    "En este paso se crear las dos variables restantes solicitadas en el desafío: **temporada_alta** y **periodo_dia**, con el fin de darles posterior tratamiento. Las variables **dif_min** y **atraso_15** han sido creadas en la sección **Variable Objetivo**"
   ]
  },
  {
   "cell_type": "markdown",
   "metadata": {
    "id": "GA_4byhzycnv"
   },
   "source": [
    "### Se crea la variable **temporada_alta**"
   ]
  },
  {
   "cell_type": "code",
   "execution_count": null,
   "metadata": {
    "id": "-H5OOaU3qsyD"
   },
   "outputs": [],
   "source": [
    "dfVuelos[\"temporada_alta\"]='0'\n",
    "\n",
    "cond1 =( (dfVuelos['fecVuelProg'] >= dfVuelos['fecVuelProg'].dt.year.apply(str) + '-12-15') & \\\n",
    " (dfVuelos['fecVuelProg']  <= dfVuelos['fecVuelProg'].dt.year.apply(lambda x: x+1).apply(str) + '-03-03') )\n",
    "cond2 = ( (dfVuelos['fecVuelProg'] >= dfVuelos['fecVuelProg'].dt.year.apply(str) + '-07-15') & \\\n",
    " (dfVuelos['fecVuelProg']  <= dfVuelos['fecVuelProg'].dt.year.apply(str) + '-07-31') )\n",
    "cond3 = ( (dfVuelos['fecVuelProg'] >= dfVuelos['fecVuelProg'].dt.year.apply(str) + '-09-11') & \\\n",
    " (dfVuelos['fecVuelProg']  <= dfVuelos['fecVuelProg'].dt.year.apply(str) + '-09-30') )\n",
    "dfVuelos.loc[(cond1 | cond2 | cond3) , 'temporada_alta'] = '1'"
   ]
  },
  {
   "cell_type": "code",
   "execution_count": null,
   "metadata": {
    "colab": {
     "base_uri": "https://localhost:8080/"
    },
    "id": "5KaGZzbpxhbX",
    "outputId": "35f60647-7b5c-45a1-89ce-0dea0217abae"
   },
   "outputs": [],
   "source": [
    "# Validación\n",
    "dfVuelos['temporada_alta'].value_counts()"
   ]
  },
  {
   "cell_type": "markdown",
   "metadata": {
    "id": "0SJvwMpbyQzD"
   },
   "source": [
    "### Se crea la variable **periodo_dia**"
   ]
  },
  {
   "cell_type": "code",
   "execution_count": null,
   "metadata": {
    "id": "6XmMP2bQw2fn"
   },
   "outputs": [],
   "source": [
    "dfVuelos['periodo_dia'] = \"\"\n",
    "\n",
    "index = pd.DatetimeIndex(dfVuelos['fecVuelProg'])\n",
    "dfVuelos.loc[index.indexer_between_time('5:00','11:59'),\"periodo_dia\"]=\"mañana\"\n",
    "dfVuelos.loc[index.indexer_between_time('12:00','18:59'),\"periodo_dia\"]=\"tarde\"\n",
    "dfVuelos.loc[index.indexer_between_time('19:00','04:59'),\"periodo_dia\"]=\"noche\""
   ]
  },
  {
   "cell_type": "markdown",
   "metadata": {
    "id": "ULxelH3IykCL"
   },
   "source": [
    "Validación para ver si las horas corresponden correctamente con la variable **periodo_dia** creada"
   ]
  },
  {
   "cell_type": "code",
   "execution_count": null,
   "metadata": {
    "colab": {
     "base_uri": "https://localhost:8080/"
    },
    "id": "Nm4_TG3P1nbR",
    "outputId": "1fc1854c-91c7-4323-e42d-415db03e427c"
   },
   "outputs": [],
   "source": [
    "dfVuelos['horaFecI']=dfVuelos['fecVuelProg'].dt.hour\n",
    "dfVuelos.groupby(by=['periodo_dia','horaFecI']).size()"
   ]
  },
  {
   "cell_type": "markdown",
   "metadata": {
    "id": "27EGPAPMRzvy"
   },
   "source": [
    "Se verifica que las horas corresponden de manera correcta con las partes del día."
   ]
  },
  {
   "cell_type": "code",
   "execution_count": null,
   "metadata": {
    "colab": {
     "base_uri": "https://localhost:8080/"
    },
    "id": "Zwd8uiDw3oFG",
    "outputId": "62956bd3-7d5e-49cb-bf57-e37285f0876d"
   },
   "outputs": [],
   "source": [
    "dfVuelos[\"periodo_dia\"].value_counts(normalize = True)*100"
   ]
  },
  {
   "cell_type": "markdown",
   "metadata": {
    "id": "bJdsqWngus3n"
   },
   "source": [
    "Se observa que se tiene un porcentaje menor (**~25%**) de personas que vuelan durante la noche. Siendo un porcentaje mayor durante la mañana y la tarde"
   ]
  },
  {
   "cell_type": "markdown",
   "metadata": {
    "id": "TM8L44haUlsj"
   },
   "source": [
    "### Exportar las variables creadas"
   ]
  },
  {
   "cell_type": "markdown",
   "metadata": {
    "id": "iWEzt6aiCZoe"
   },
   "source": [
    "Se guarda y se exporta los variables creadas en el archivo **synthetic_features.csv**. Se mantiene el index para posteriores cruces"
   ]
  },
  {
   "cell_type": "code",
   "execution_count": null,
   "metadata": {
    "id": "-FNSxmzDCOib"
   },
   "outputs": [],
   "source": [
    "dfVuelos[['temporada_alta','dif_min','atraso_15','periodo_dia']].to_csv(url_data+'synthetic_features.csv',sep=',')"
   ]
  },
  {
   "cell_type": "code",
   "execution_count": null,
   "metadata": {
    "colab": {
     "base_uri": "https://localhost:8080/",
     "height": 0
    },
    "id": "LuWmGLyLUVB_",
    "outputId": "c7f13a99-e639-422f-e2fd-c119f25168e1"
   },
   "outputs": [],
   "source": [
    "dfVuelos.head(5)"
   ]
  },
  {
   "cell_type": "markdown",
   "metadata": {
    "id": "YK6S3VNxUEM9"
   },
   "source": [
    "Eliminar la variable **horaFecI** que no será empleada para el análisis posterior"
   ]
  },
  {
   "cell_type": "code",
   "execution_count": null,
   "metadata": {
    "id": "J3GQ6i3E1e5u"
   },
   "outputs": [],
   "source": [
    "dfVuelos.drop('horaFecI', axis=1, inplace=True)"
   ]
  },
  {
   "cell_type": "markdown",
   "metadata": {
    "id": "tZ2Fur9KAlEA"
   },
   "source": [
    "# EDA"
   ]
  },
  {
   "cell_type": "markdown",
   "metadata": {
    "id": "1nPJcggKBgBE"
   },
   "source": [
    "## Analisis Preliminar Univariado"
   ]
  },
  {
   "cell_type": "code",
   "execution_count": null,
   "metadata": {
    "id": "6_7NC6Vt_rBe"
   },
   "outputs": [],
   "source": [
    "df_analisis = dfVuelos.copy()"
   ]
  },
  {
   "cell_type": "code",
   "execution_count": null,
   "metadata": {
    "colab": {
     "base_uri": "https://localhost:8080/",
     "height": 0
    },
    "id": "xZpiIMZGd9RA",
    "outputId": "12027068-2581-487f-ad35-21e190b7ea60"
   },
   "outputs": [],
   "source": [
    "df_analisis.head(5)"
   ]
  },
  {
   "cell_type": "markdown",
   "metadata": {
    "id": "oZ2GY7dn_ZjB"
   },
   "source": [
    "### Origen de los vuelos"
   ]
  },
  {
   "cell_type": "markdown",
   "metadata": {
    "id": "NqMeR8tuu2R-"
   },
   "source": [
    "Se realiza el análisis de las siguientes variables:\n",
    "\n",
    "* **codCiudadOrigProg**\n",
    "* **codCiudadOrigOperado**\n",
    "* **nombCiudadOrig**"
   ]
  },
  {
   "cell_type": "code",
   "execution_count": null,
   "metadata": {
    "colab": {
     "base_uri": "https://localhost:8080/",
     "height": 0
    },
    "id": "cn5j__I1QhZ8",
    "outputId": "742e8d31-1a20-4388-aefc-287c945c2410"
   },
   "outputs": [],
   "source": [
    "df_analisis[['codCiudadOrigProg','codCiudadOrigOperado','nombCiudadOrig']].describe(include='all')"
   ]
  },
  {
   "cell_type": "markdown",
   "metadata": {
    "id": "KB4b9Cis5qo2"
   },
   "source": [
    "Algunas consideraciones relacionadas con las variables:\n",
    "\n",
    "- **Todos los vuelos parten de Santiago de Chile**. No existen cambios en el origen de los vuelos operados con respecto a los vuelos programados.\n",
    "- Las variables: **codCiudadOrigProg** y **codCiudadOrigOperado** que describen el código de ciudad de origen programado y codigo de ciudad de origen de operación por tener un único valor se comportan como una **columna constante de varianza nula**, en ese sentido, esta columna será eliminada posteriormente ya que no aporta en la diferenciación de una clase(1) con otra(0). \n",
    "- El origen del vuelo programado y operado es el mismo, lo que evidencia que se realiza lo programado\n",
    "- Nos quedaremos con **nombCiudadOrig** para el análisis exploratorio de los datos, sin embargo para el entrenamiento del modelo será igualmente eliminada, por ser una **columna constante de varianza nula**"
   ]
  },
  {
   "cell_type": "code",
   "execution_count": null,
   "metadata": {
    "id": "g7ZB7og3ee9U"
   },
   "outputs": [],
   "source": [
    "df_analisis.drop('codCiudadOrigProg', axis=1, inplace=True)\n",
    "df_analisis.drop('codCiudadOrigOperado', axis=1, inplace=True)"
   ]
  },
  {
   "cell_type": "markdown",
   "metadata": {
    "id": "JtYBKR01D9l4"
   },
   "source": [
    "**Número de vuelos por Origen**"
   ]
  },
  {
   "cell_type": "markdown",
   "metadata": {
    "id": "qgzJhIbzEAsr"
   },
   "source": [
    "Como se menciona **Todos los vuelos parten de Santiago de Chile**. No existen cambios en el origen de los vuelos operados con respecto a los vuelos programados."
   ]
  },
  {
   "cell_type": "markdown",
   "metadata": {
    "id": "mO-c9PCdzD_j"
   },
   "source": [
    "### Destino de los Vuelos"
   ]
  },
  {
   "cell_type": "markdown",
   "metadata": {
    "id": "MeNJM9r02EWn"
   },
   "source": [
    "Se realiza el análisis de las siguientes variables:\n",
    "\n",
    "* **codCiudadDestProg**\n",
    "* **codCiudadDestOperado**\n",
    "* **nombCiudadDest**"
   ]
  },
  {
   "cell_type": "code",
   "execution_count": null,
   "metadata": {
    "colab": {
     "base_uri": "https://localhost:8080/",
     "height": 0
    },
    "id": "nBruizhZ1xf4",
    "outputId": "bec708e6-8973-478e-d980-429695b6fbbb"
   },
   "outputs": [],
   "source": [
    "df_analisis[['codCiudadDestProg','codCiudadDestOperado','nombCiudadDest']].describe(include='all')"
   ]
  },
  {
   "cell_type": "code",
   "execution_count": null,
   "metadata": {
    "colab": {
     "base_uri": "https://localhost:8080/",
     "height": 0
    },
    "id": "AWCcKto2_Fc-",
    "outputId": "62d4b16a-5ec9-4266-a033-63d1c88263b6"
   },
   "outputs": [],
   "source": [
    "groupped_data = df_analisis.groupby(['nombCiudadDest','codCiudadDestProg','codCiudadDestOperado']).agg({'atraso_15': 'count'})\n",
    "groupped_data[\"%\"] = groupped_data.apply(lambda x:  100*x / x.sum())\n",
    "groupped_data"
   ]
  },
  {
   "cell_type": "markdown",
   "metadata": {
    "id": "gkPFl4CC2LOm"
   },
   "source": [
    "Algunas consideraciones relacionadas con las variables:\n",
    "\n",
    "- Existen algunos cambios en el **destino** de los vuelos operados con respecto a los vuelos programados\n",
    "- Algunas **ciudades de destino** agrupan uno o más codigos de destino programado y operado"
   ]
  },
  {
   "cell_type": "markdown",
   "metadata": {
    "id": "-Rcto47r_aZx"
   },
   "source": [
    "**Número de vuelos por Destino**"
   ]
  },
  {
   "cell_type": "code",
   "execution_count": null,
   "metadata": {
    "colab": {
     "base_uri": "https://localhost:8080/",
     "height": 0
    },
    "id": "V2QnOVDulrcp",
    "outputId": "be628b52-ee1e-40ae-a131-d1f519503fe2"
   },
   "outputs": [],
   "source": [
    "groupped_data = df_analisis.groupby(['nombCiudadDest'],as_index=False).agg({'atraso_15': 'count'})\n",
    "groupped_data.rename(columns={'atraso_15':'nro_vuelos'},inplace=True)\n",
    "groupped_data.sort_values(by=['nro_vuelos'],ascending=False,inplace=True)\n",
    "groupped_data[\"% Total\"] = groupped_data['nro_vuelos']/len(df_analisis)*100\n",
    "groupped_data.head(5)"
   ]
  },
  {
   "cell_type": "code",
   "execution_count": null,
   "metadata": {
    "colab": {
     "base_uri": "https://localhost:8080/",
     "height": 0
    },
    "id": "R1wVErECmqRY",
    "outputId": "e9488e58-df71-4c3f-df45-845ae8d55fd4"
   },
   "outputs": [],
   "source": [
    "groupped_data.tail(5)"
   ]
  },
  {
   "cell_type": "code",
   "execution_count": null,
   "metadata": {
    "colab": {
     "base_uri": "https://localhost:8080/",
     "height": 0
    },
    "id": "f02udtGz3ntP",
    "outputId": "7951057d-ded0-452f-a692-8ffa537e9474"
   },
   "outputs": [],
   "source": [
    "plt.figure(figsize=(30,10))\n",
    "ax=sns.countplot(data=df_analisis,x='nombCiudadDest',\n",
    "                 order=df_analisis['nombCiudadDest'].value_counts().index)\n",
    "ax.set_xticklabels(ax.get_xticklabels(), rotation=40, ha=\"right\")\n",
    "\n",
    "total = len(df_analisis)\n",
    "for p in ax.patches:\n",
    "    percentage = f'{100 * p.get_height() / total:.1f}%\\n'\n",
    "    x = p.get_x() + p.get_width() / 2\n",
    "    y = p.get_height()\n",
    "    ax.annotate(percentage, (x, y), ha='center', va='center')\n",
    "plt.tight_layout()\n",
    "plt.show()"
   ]
  },
  {
   "cell_type": "markdown",
   "metadata": {
    "id": "HZMtCSnTzH3q"
   },
   "source": [
    "- Los destinos más frecuentes son **Buenos Aires(9,3%), Antofagasta(8.5%), Lima(7.7%) y Calama(7.5%)**. Estas ciudades se encuentran dentro de los países: **Argentina, Chile y Perú**\n",
    "- Los destinos menos frecuentes son **Washington, Pisco - Peru, Puerto Stanley y Cochabamba**\n"
   ]
  },
  {
   "cell_type": "markdown",
   "metadata": {
    "id": "OeG52HDpEf1-"
   },
   "source": [
    "**Agrupación de las ciudades en PAIS, REGION**"
   ]
  },
  {
   "cell_type": "code",
   "execution_count": null,
   "metadata": {
    "id": "AyaRmutnEoOw"
   },
   "outputs": [],
   "source": [
    "#Pendiente\n",
    "#Crear una nueva variable\n",
    "#Se debe relacionar esto con respecto al origen y destino. \n",
    "#Esto permite mirar la frecuencia de un lugar a otro. Mirar cuales son las rutas más frecuentes"
   ]
  },
  {
   "cell_type": "markdown",
   "metadata": {
    "id": "Ilt55Ovjjmom"
   },
   "source": [
    "### Número de vuelos por año, mes y dia de la semana"
   ]
  },
  {
   "cell_type": "markdown",
   "metadata": {
    "id": "wTikG9kBrOeK"
   },
   "source": [
    "#### Vuelos por año"
   ]
  },
  {
   "cell_type": "code",
   "execution_count": null,
   "metadata": {
    "colab": {
     "base_uri": "https://localhost:8080/",
     "height": 0
    },
    "id": "_a_9OuGNkhC2",
    "outputId": "84e0b6cd-1ec7-4534-8985-1bc1d0222c27"
   },
   "outputs": [],
   "source": [
    "data_agrupada = df_analisis.groupby(['anioVuelOperado'],as_index=False).agg({'atraso_15': 'count'})\n",
    "data_agrupada.rename(columns={'atraso_15':'nro_vuelos'},inplace=True)\n",
    "data_agrupada.sort_values(by=['nro_vuelos'],ascending=False,inplace=True)\n",
    "data_agrupada[\"% Total\"] = data_agrupada['nro_vuelos']/len(df_analisis)*100\n",
    "data_agrupada"
   ]
  },
  {
   "cell_type": "code",
   "execution_count": null,
   "metadata": {
    "colab": {
     "base_uri": "https://localhost:8080/",
     "height": 0
    },
    "id": "0tZmnS_ejp28",
    "outputId": "bca83319-0081-450c-9a8b-7cbe08584aeb"
   },
   "outputs": [],
   "source": [
    "plt.figure(figsize=(11,6))\n",
    "ax=sns.countplot(data=df_analisis,x='anioVuelOperado',\n",
    "                 order=df_analisis['anioVuelOperado'].value_counts().index)\n",
    "ax.set_xticklabels(ax.get_xticklabels(), rotation=40, ha=\"right\")\n",
    "\n",
    "total = len(df_analisis)\n",
    "for p in ax.patches:\n",
    "    percentage = f'{100 * p.get_height() / total:.1f}%\\n'\n",
    "    x = p.get_x() + p.get_width() / 2\n",
    "    y = p.get_height()\n",
    "    ax.annotate(percentage, (x, y), ha='center', va='center')\n",
    "plt.tight_layout()\n",
    "plt.show()"
   ]
  },
  {
   "cell_type": "markdown",
   "metadata": {
    "id": "8xzqKt5ykxD-"
   },
   "source": [
    "Se observa que la mayor cantidad de vuelos operados corresponden al año 2017. Esta variable se puede considerar así mismo como una **columna constante de varianza nula** ya que el 99.99% de sus valores se encuentran sobre una única categoria por lo que será eliminado."
   ]
  },
  {
   "cell_type": "code",
   "execution_count": null,
   "metadata": {
    "id": "uNtW7334pKjC"
   },
   "outputs": [],
   "source": [
    "df_analisis.drop('anioVuelOperado', axis=1, inplace=True)"
   ]
  },
  {
   "cell_type": "markdown",
   "metadata": {
    "id": "cze-URQ9k1op"
   },
   "source": [
    "#### Vuelos por mes"
   ]
  },
  {
   "cell_type": "code",
   "execution_count": null,
   "metadata": {
    "colab": {
     "base_uri": "https://localhost:8080/",
     "height": 0
    },
    "id": "F3kR1UEGk8hz",
    "outputId": "c8981188-d2de-455d-b7ff-299bed682e52"
   },
   "outputs": [],
   "source": [
    "data_agrupada = df_analisis.groupby(['mesVuelOperado'],as_index=False).agg({'atraso_15': 'count'})\n",
    "data_agrupada.rename(columns={'atraso_15':'nro_vuelos'},inplace=True)\n",
    "data_agrupada.sort_values(by=['nro_vuelos'],ascending=False,inplace=True)\n",
    "data_agrupada[\"% Total\"] = data_agrupada['nro_vuelos']/len(df_analisis)*100\n",
    "data_agrupada"
   ]
  },
  {
   "cell_type": "code",
   "execution_count": null,
   "metadata": {
    "colab": {
     "base_uri": "https://localhost:8080/",
     "height": 0
    },
    "id": "VEGIOJKUk49Z",
    "outputId": "d60ab31c-e678-475d-e16f-557e2b2f8d11"
   },
   "outputs": [],
   "source": [
    "plt.figure(figsize=(20,7))\n",
    "ax=sns.countplot(data=df_analisis,x='mesVuelOperado')\n",
    "ax.set_xticklabels(ax.get_xticklabels(), rotation=40, ha=\"right\")\n",
    "\n",
    "total = len(df_analisis)\n",
    "for p in ax.patches:\n",
    "    percentage = f'{100 * p.get_height() / total:.1f}%\\n'\n",
    "    x = p.get_x() + p.get_width() / 2\n",
    "    y = p.get_height()\n",
    "    ax.annotate(percentage, (x, y), ha='center', va='center')\n",
    "plt.tight_layout()\n",
    "plt.show()"
   ]
  },
  {
   "cell_type": "markdown",
   "metadata": {
    "id": "_sCmxbJVljHH"
   },
   "source": [
    "Se observa lo siguiente:\n",
    "\n",
    "*   **Enero** y **Diciembre** son los meses con la mayor cantidad de vuelos operados\n",
    "*   **Abril** y **Junio** registran la menor cantidad de vuelos operados\n",
    "*   El **segundo trimestre** del año (Abr. May. Jun.) tiene el menor número de vuelos operados\n",
    "*   **Enero**, **Julio** y **Diciembre** registran una subida en el número de vuelos operados con respecto a los meses anteriores.\n",
    "*   El **último trimestre** del año (Oct. Nov. Dic.) tiene un mayor número de vuelos operados con respecto al resto de trimestres\n",
    "\n",
    "\n"
   ]
  },
  {
   "cell_type": "markdown",
   "metadata": {
    "id": "kUxU8EqroLS0"
   },
   "source": [
    "#### Vuelos por día de la semana"
   ]
  },
  {
   "cell_type": "code",
   "execution_count": null,
   "metadata": {
    "colab": {
     "base_uri": "https://localhost:8080/",
     "height": 0
    },
    "id": "8phME3xjp_Kp",
    "outputId": "df1757bd-24ae-4121-c30e-f35fe25fc36d"
   },
   "outputs": [],
   "source": [
    "data_agrupada = df_analisis.groupby(['diaSemVuelOperado'],as_index=False).agg({'atraso_15': 'count'})\n",
    "data_agrupada.rename(columns={'atraso_15':'nro_vuelos'},inplace=True)\n",
    "data_agrupada.sort_values(by=['nro_vuelos'],ascending=False,inplace=True)\n",
    "data_agrupada[\"% Total\"] = data_agrupada['nro_vuelos']/len(df_analisis)*100\n",
    "data_agrupada\n"
   ]
  },
  {
   "cell_type": "code",
   "execution_count": null,
   "metadata": {
    "colab": {
     "base_uri": "https://localhost:8080/",
     "height": 0
    },
    "id": "9xtBXgY-p_NO",
    "outputId": "d5000786-cf69-4697-c670-202df39ad95d"
   },
   "outputs": [],
   "source": [
    "plt.figure(figsize=(20,7))\n",
    "ax=sns.countplot(data=df_analisis,x='diaSemVuelOperado',\n",
    "                 order=df_analisis['diaSemVuelOperado'].value_counts().index)\n",
    "ax.set_xticklabels(ax.get_xticklabels(), rotation=40, ha=\"right\")\n",
    "\n",
    "total = len(df_analisis)\n",
    "for p in ax.patches:\n",
    "    percentage = f'{100 * p.get_height() / total:.1f}%\\n'\n",
    "    x = p.get_x() + p.get_width() / 2\n",
    "    y = p.get_height()\n",
    "    ax.annotate(percentage, (x, y), ha='center', va='center')\n",
    "plt.tight_layout()\n",
    "plt.show()"
   ]
  },
  {
   "cell_type": "markdown",
   "metadata": {
    "id": "Vnk9DCmurxey"
   },
   "source": [
    "Se observa lo siguiente:\n",
    "- Los **Sábados** es el dia con la menor cantidad de vuelos. Representa el **12.2%** de los vuelos operados\n",
    "- Los **Viernes** y **Jueves** y **Lunes** son los días con la mayor cantidad de vuelos. Cada uno representa más del **15%**."
   ]
  },
  {
   "cell_type": "code",
   "execution_count": null,
   "metadata": {
    "id": "BsLQZ-cc3EDG"
   },
   "outputs": [],
   "source": [
    "df_analisis.drop('diaVuelOperado', axis=1, inplace=True)"
   ]
  },
  {
   "cell_type": "markdown",
   "metadata": {
    "id": "hYFeqOERoUvT"
   },
   "source": [
    "### Número de vuelos por tipo y nombre de la aerolínea"
   ]
  },
  {
   "cell_type": "markdown",
   "metadata": {
    "id": "Qa2pB98h9-dg"
   },
   "source": [
    "#### Vuelos por tipo de vuelo"
   ]
  },
  {
   "cell_type": "code",
   "execution_count": null,
   "metadata": {
    "colab": {
     "base_uri": "https://localhost:8080/",
     "height": 0
    },
    "id": "dSTivtVQvOXS",
    "outputId": "e8aa8ea4-fef0-4d44-eb6a-112a5ace7b5b"
   },
   "outputs": [],
   "source": [
    "data_agrupada = df_analisis.groupby(['tipVuelo'],as_index=False).agg({'atraso_15': 'count'})\n",
    "data_agrupada.rename(columns={'atraso_15':'nro_vuelos'},inplace=True)\n",
    "data_agrupada.sort_values(by=['nro_vuelos'],ascending=False,inplace=True)\n",
    "data_agrupada[\"% Total\"] = data_agrupada['nro_vuelos']/len(df_analisis)*100\n",
    "data_agrupada\n"
   ]
  },
  {
   "cell_type": "code",
   "execution_count": null,
   "metadata": {
    "colab": {
     "base_uri": "https://localhost:8080/",
     "height": 0
    },
    "id": "2-khsj84vOeJ",
    "outputId": "73a4cfac-74df-499f-b517-9330aa8f1ebf"
   },
   "outputs": [],
   "source": [
    "plt.figure(figsize=(11,6))\n",
    "ax=sns.countplot(data=df_analisis,x='tipVuelo',\n",
    "                 order=df_analisis['tipVuelo'].value_counts().index)\n",
    "ax.set_xticklabels(ax.get_xticklabels(), rotation=40, ha=\"right\")\n",
    "\n",
    "total = len(df_analisis)\n",
    "for p in ax.patches:\n",
    "    percentage = f'{100 * p.get_height() / total:.1f}%\\n'\n",
    "    x = p.get_x() + p.get_width() / 2\n",
    "    y = p.get_height()\n",
    "    ax.annotate(percentage, (x, y), ha='center', va='center')\n",
    "plt.tight_layout()\n",
    "plt.show()"
   ]
  },
  {
   "cell_type": "markdown",
   "metadata": {
    "id": "_8db1N4e-X7R"
   },
   "source": [
    "Del total de vuelos operados el **54.2%** son vuelos **Nacionales** 10% más que los vuelos Internacionales **45.8%**."
   ]
  },
  {
   "cell_type": "markdown",
   "metadata": {
    "id": "Jilxy2uY-rse"
   },
   "source": [
    "#### Vuelos por nombre de la aerolínea que opera"
   ]
  },
  {
   "cell_type": "code",
   "execution_count": null,
   "metadata": {
    "colab": {
     "base_uri": "https://localhost:8080/",
     "height": 0
    },
    "id": "8Dg40_BPvOgF",
    "outputId": "716b0296-e66d-4a80-83bd-b0ea888b2456"
   },
   "outputs": [],
   "source": [
    "data_agrupada = df_analisis.groupby(['nombAerolineaOperado'],as_index=False).agg({'atraso_15': 'count'})\n",
    "data_agrupada.rename(columns={'atraso_15':'nro_vuelos'},inplace=True)\n",
    "data_agrupada.sort_values(by=['nro_vuelos'],ascending=False,inplace=True)\n",
    "data_agrupada[\"% Total\"] = data_agrupada['nro_vuelos']/len(df_analisis)*100\n",
    "data_agrupada.head(10)"
   ]
  },
  {
   "cell_type": "code",
   "execution_count": null,
   "metadata": {
    "colab": {
     "base_uri": "https://localhost:8080/",
     "height": 0
    },
    "id": "8UtwUIXBvOoW",
    "outputId": "2ce1299a-ef12-44c3-8140-fa2a210fe4ca"
   },
   "outputs": [],
   "source": [
    "plt.figure(figsize=(20,7))\n",
    "ax=sns.countplot(data=df_analisis,x='nombAerolineaOperado',\n",
    "                 order=df_analisis['nombAerolineaOperado'].value_counts().index)\n",
    "ax.set_xticklabels(ax.get_xticklabels(), rotation=40, ha=\"right\")\n",
    "\n",
    "total = len(df_analisis)\n",
    "for p in ax.patches:\n",
    "    percentage = f'{100 * p.get_height() / total:.1f}%\\n'\n",
    "    x = p.get_x() + p.get_width() / 2\n",
    "    y = p.get_height()\n",
    "    ax.annotate(percentage, (x, y), ha='center', va='center')\n",
    "plt.tight_layout()\n",
    "plt.show()"
   ]
  },
  {
   "cell_type": "markdown",
   "metadata": {
    "id": "O6L9aRAIAXZn"
   },
   "source": [
    "Se observa lo siguiente:\n",
    "- La aerolinea con más vuelos es el **Grupo LATAM** con 40892 vuelos, esto representa el **59.9%** del total de vuelos operados. Seguido de **Sky Airlines** con el **20.9%**.\n",
    "- **Más del 80%** del total de vuelos operados está conformado por las aerolíneas Grupo LATAM y Sky Airlines.\n",
    "- **Cerca de 10%** está conformado por **Aerolineas Argentinas (2.85%), Copa Air (2.7%), Latin American Wings (2.4%), Avianca (1.6%)**."
   ]
  },
  {
   "cell_type": "markdown",
   "metadata": {
    "id": "mc19ENWEofNY"
   },
   "source": [
    "### Número de vuelos por temporada y periodo"
   ]
  },
  {
   "cell_type": "markdown",
   "metadata": {
    "id": "ilA_nIwNTt06"
   },
   "source": [
    "#### Vuelos por temporada"
   ]
  },
  {
   "cell_type": "code",
   "execution_count": null,
   "metadata": {
    "colab": {
     "base_uri": "https://localhost:8080/",
     "height": 0
    },
    "id": "9pOaGxRGSPTo",
    "outputId": "1508ac7a-f84e-415b-e01f-1e697950ee3f"
   },
   "outputs": [],
   "source": [
    "data_agrupada = df_analisis.groupby(['temporada_alta'],as_index=False).agg({'atraso_15': 'count'})\n",
    "data_agrupada.rename(columns={'atraso_15':'nro_vuelos'},inplace=True)\n",
    "data_agrupada.sort_values(by=['nro_vuelos'],ascending=False,inplace=True)\n",
    "data_agrupada[\"% Total\"] = data_agrupada['nro_vuelos']/len(df_analisis)*100\n",
    "data_agrupada"
   ]
  },
  {
   "cell_type": "code",
   "execution_count": null,
   "metadata": {
    "colab": {
     "base_uri": "https://localhost:8080/",
     "height": 0
    },
    "id": "i5A2D8QiT0hQ",
    "outputId": "a2e51b4c-b9cb-410d-db28-96bf4bb72ea4"
   },
   "outputs": [],
   "source": [
    "plt.figure(figsize=(11,6))\n",
    "ax=sns.countplot(data=df_analisis,x='temporada_alta',\n",
    "                 order=df_analisis['temporada_alta'].value_counts().index)\n",
    "ax.set_xticklabels(ax.get_xticklabels(), rotation=40, ha=\"right\")\n",
    "\n",
    "total = len(df_analisis)\n",
    "for p in ax.patches:\n",
    "    percentage = f'{100 * p.get_height() / total:.1f}%\\n'\n",
    "    x = p.get_x() + p.get_width() / 2\n",
    "    y = p.get_height()\n",
    "    ax.annotate(percentage, (x, y), ha='center', va='center')\n",
    "plt.tight_layout()\n",
    "plt.show()"
   ]
  },
  {
   "cell_type": "markdown",
   "metadata": {
    "id": "0rIBcdZHUGp-"
   },
   "source": [
    "Se observa que el **85.11%** de los vuelos **no** se realizan en temporada alta, es decir entre 15-Dic y 3-Mar, o 15-Jul y 31-Jul, o 11-Sep y 30-Sep."
   ]
  },
  {
   "cell_type": "markdown",
   "metadata": {
    "id": "7PYWzd9RTxXR"
   },
   "source": [
    "#### Vuelos por periodo dia"
   ]
  },
  {
   "cell_type": "code",
   "execution_count": null,
   "metadata": {
    "colab": {
     "base_uri": "https://localhost:8080/",
     "height": 0
    },
    "id": "C5AXB6t1TjzQ",
    "outputId": "5d95fe10-9137-4506-83b7-3e095428d20a"
   },
   "outputs": [],
   "source": [
    "data_agrupada = df_analisis.groupby(['periodo_dia'],as_index=False).agg({'atraso_15': 'count'})\n",
    "data_agrupada.rename(columns={'atraso_15':'nro_vuelos'},inplace=True)\n",
    "data_agrupada.sort_values(by=['nro_vuelos'],ascending=False,inplace=True)\n",
    "data_agrupada[\"% Total\"] = data_agrupada['nro_vuelos']/len(df_analisis)*100\n",
    "data_agrupada"
   ]
  },
  {
   "cell_type": "code",
   "execution_count": null,
   "metadata": {
    "colab": {
     "base_uri": "https://localhost:8080/",
     "height": 0
    },
    "id": "MlZuq3WxT4Wx",
    "outputId": "692c32e3-0c03-4e36-b2f1-8cc2f55c148b"
   },
   "outputs": [],
   "source": [
    "plt.figure(figsize=(11,6))\n",
    "ax=sns.countplot(data=df_analisis,x='periodo_dia',\n",
    "                 order=df_analisis['periodo_dia'].value_counts().index)\n",
    "ax.set_xticklabels(ax.get_xticklabels(), rotation=40, ha=\"right\")\n",
    "\n",
    "total = len(df_analisis)\n",
    "for p in ax.patches:\n",
    "    percentage = f'{100 * p.get_height() / total:.1f}%\\n'\n",
    "    x = p.get_x() + p.get_width() / 2\n",
    "    y = p.get_height()\n",
    "    ax.annotate(percentage, (x, y), ha='center', va='center')\n",
    "plt.tight_layout()\n",
    "plt.show()"
   ]
  },
  {
   "cell_type": "markdown",
   "metadata": {
    "id": "xxi1mqOnT-XW"
   },
   "source": [
    "Se observa que se tiene un porcentaje menor **(25.4%)** de personas que vuelan durante la **noche**. Siendo un porcentaje **mayor** durante la **tarde(37.4%)** y la **mañana(37.2)**"
   ]
  },
  {
   "cell_type": "markdown",
   "metadata": {
    "id": "alTTyzNESPyR"
   },
   "source": [
    "### Distribución de la tasa de atraso (min)"
   ]
  },
  {
   "cell_type": "code",
   "execution_count": null,
   "metadata": {
    "colab": {
     "base_uri": "https://localhost:8080/",
     "height": 0
    },
    "id": "gXKzJxSfk4_s",
    "outputId": "93662159-0e26-4392-c584-10ff81a4f7f3"
   },
   "outputs": [],
   "source": [
    "plt.figure(figsize=(25,10))\n",
    "sns.histplot(data=df_analisis, x='dif_min',kde=True,hue='atraso_15',bins=60)\n",
    "plt.show()"
   ]
  },
  {
   "cell_type": "markdown",
   "metadata": {
    "id": "SaWvPOi9YQ9s"
   },
   "source": [
    "Se observa lo siguiente:\n",
    "- La variable **dif_min** presenta un histograma asimetrico con cola hacia la derecha, lo que evidencia que se tiene la presencia de pocos altos valores de atraso de un vuelo.\n",
    "- La diferencia en minutos para la variable **atraso_15** de **valor igual a 1**, tiene un histograma achatado asimetrico de cola hacia a la derecha, lo que evidencia que se tiene la presencia de pocos altos valores de atraso de un vuelo. Esto genera una alta desviación estandar con respecto a la media.\n",
    "- La diferencia en minutos para la variable **atraso_15** de **valor igual a 0**, tiene un histograma apuntado con baja desviación estandar ya que sus valores se encuentran concentrados cerca de la media.\n",
    "- La desviación estandar de la variable **atraso_15** de **valor igual a 0** es mayor que la variable **atraso_15** de **valor igual a 1**, esto evidencia una mayor variabilidad en cuanto a sus valores con respecto a la media para los vuelos retrasados."
   ]
  },
  {
   "cell_type": "markdown",
   "metadata": {
    "id": "uyhf9xCBzK4t"
   },
   "source": [
    "Se observa una ligera **asimetria a la derecha (Cola a la derecha)**. Através de este histograma tambien podemos validar la presencia de algunos valores fuera del rango normal de distribución. Veamos un BOXPLOT para analizar estos puntos."
   ]
  },
  {
   "cell_type": "code",
   "execution_count": null,
   "metadata": {
    "colab": {
     "base_uri": "https://localhost:8080/",
     "height": 0
    },
    "id": "LK1DxkRQw9vc",
    "outputId": "445715be-a580-4b45-f0a7-a73c3d434945"
   },
   "outputs": [],
   "source": [
    "plt.figure(figsize=(15,6))\n",
    "sns.boxplot(df_analisis['dif_min'])\n",
    "plt.title(\"Boxpot de la variable dif_min \")\n",
    "plt.show()"
   ]
  },
  {
   "cell_type": "markdown",
   "metadata": {
    "id": "E_NnJd8h0yaM"
   },
   "source": [
    "A través del boxplot podemos ver claramente que existen algunos valores a la derecha que pueden no favorecer en el comportamiento habitual de los datos. Veamos un análisis por PERCENTILES"
   ]
  },
  {
   "cell_type": "code",
   "execution_count": null,
   "metadata": {
    "colab": {
     "base_uri": "https://localhost:8080/",
     "height": 0
    },
    "id": "yTLEcuC4zgTh",
    "outputId": "0ad468bc-d6fa-4c3e-beb6-ddeb032e6960"
   },
   "outputs": [],
   "source": [
    "vector_percentiles = [0,0.5,1,2.5,5,10,25,50,75,90,92.5,95,97.5,98,98.5,99,99.5,100]\n",
    "vector_valores_percentiles=np.percentile(df_analisis['dif_min'],vector_percentiles)\n",
    "\n",
    "pd.concat([pd.DataFrame(vector_percentiles, columns = ['Percentile']),\n",
    "           pd.DataFrame(vector_valores_percentiles, columns = ['Valor'])], axis = 1)"
   ]
  },
  {
   "cell_type": "markdown",
   "metadata": {
    "id": "uuY_gOoyyAYf"
   },
   "source": [
    "Lo que se busca son **grandes variaciones por percentil**. Por ejemplo para esta variable el percentil **98.5** tiene un valor de **86** sin embargo el percentil 100 tiene un valor **161**, casi el doble. es decir solo un **1.5%** concentra valores mayores que **86**; se observa una amplia variación de un percentil a otro. Este será nuestro criterio para imputar cada variable.\n",
    "\n",
    "Se analizaron los percentiles de la variable y se definió en base la punto de corte correspondiente:"
   ]
  },
  {
   "cell_type": "code",
   "execution_count": null,
   "metadata": {
    "id": "8D6jRa5ZxLhg"
   },
   "outputs": [],
   "source": [
    "#clean_outlier_perc(df_analisis,'dif_min', 0.98)"
   ]
  },
  {
   "cell_type": "markdown",
   "metadata": {
    "id": "pDTjC8ZpyiS0"
   },
   "source": [
    "Para este caso primero analizaremos si esta variable le aporta al modelo, de lo contrario no tiene sentido retirar los valores outliers con la función **clean_outlier_perc** ya que le añade más sesgo al modelo"
   ]
  },
  {
   "cell_type": "markdown",
   "metadata": {
    "id": "w4IycFKnA74O"
   },
   "source": [
    "### Reporte Univariado"
   ]
  },
  {
   "cell_type": "markdown",
   "metadata": {
    "id": "752pGTeXpE2B"
   },
   "source": [
    "Se realiza la conversión en los tipos de datos para realizar el reporte univariado"
   ]
  },
  {
   "cell_type": "code",
   "execution_count": null,
   "metadata": {
    "id": "GrcSmC4DgbPg"
   },
   "outputs": [],
   "source": [
    "df_analisis_uni = df_analisis.copy()"
   ]
  },
  {
   "cell_type": "code",
   "execution_count": null,
   "metadata": {
    "id": "lmVzsq-UgyDa"
   },
   "outputs": [],
   "source": [
    "feat_numerical_uni = ['dif_min']\n",
    "\n",
    "feat_categorical_uni = [\n",
    " 'codCiudadDestProg',\n",
    " 'codAerolineaVuelProg',\n",
    " 'codCiudadDestOperado',\n",
    " 'codAerolineaVuelOperado',\n",
    " 'diaSemVuelOperado',\n",
    " 'mesVuelOperado',\n",
    " 'tipVuelo',\n",
    " 'nombAerolineaOperado',\n",
    " 'nombCiudadDest',\n",
    " 'atraso_15',\n",
    " 'temporada_alta',\n",
    " 'periodo_dia']"
   ]
  },
  {
   "cell_type": "code",
   "execution_count": null,
   "metadata": {
    "id": "2mC_Zn3S-H0d"
   },
   "outputs": [],
   "source": [
    "for var in feat_categorical_uni:\n",
    "  df_analisis_uni[var] = df_analisis_uni[var].astype('category')"
   ]
  },
  {
   "cell_type": "code",
   "execution_count": null,
   "metadata": {
    "colab": {
     "base_uri": "https://localhost:8080/",
     "height": 0
    },
    "id": "y3hB_92BBGyx",
    "outputId": "47ae46ff-8d6e-4792-9a3f-5b5361bd8c0b"
   },
   "outputs": [],
   "source": [
    "v=pd.DataFrame({\"variable\": df_analisis_uni.columns.values})\n",
    "t=pd.DataFrame({\"tipo\": df_analisis_uni.dtypes.values})\n",
    "meta=pd.concat([v, t], axis=1)\n",
    "meta=meta.loc[(meta['tipo']=='category')|(meta['tipo']=='float64'),:]\n",
    "meta"
   ]
  },
  {
   "cell_type": "code",
   "execution_count": null,
   "metadata": {
    "colab": {
     "base_uri": "https://localhost:8080/",
     "height": 0
    },
    "id": "wrWFR1x-BIuJ",
    "outputId": "0bf5b721-88b4-4830-ed54-2989906f697b"
   },
   "outputs": [],
   "source": [
    "# Reporte Univariado\n",
    "plot_graph_initial(df_analisis_uni, meta)"
   ]
  },
  {
   "cell_type": "markdown",
   "metadata": {
    "id": "iUVsxIBH7pmt"
   },
   "source": [
    "En el siguiente reporte se muestra lo siguiente:\n",
    "- Para las variables cualitativas un gráfico de barras ordenado según la cantidad de vuelos, así como un digrama de pastel que indica el porcentaje de cada categoria.\n",
    "- Para la única variable cuantitativa se muestra su histograma y boxplot."
   ]
  },
  {
   "cell_type": "markdown",
   "metadata": {
    "id": "cp6dII33u7c6"
   },
   "source": [
    "## Analisis Preliminar Bivariado"
   ]
  },
  {
   "cell_type": "markdown",
   "metadata": {
    "id": "V6nkqK3QDu--"
   },
   "source": [
    "\n",
    "*  Se tomará en cuenta como parte del análisis la **mediana** y la **media** teniendo en cuenta que los valores de la media son afectados por los valores outliers de la variable **dif_min**\n",
    "*  Se debe de tomar en cuenta la cantidad de valores por cada categoría\n",
    "*  La intensidad de color en cada boxplot ayudaría a saber la concentración de valores en cada boxplot (densidad)\n",
    "*  El gráfico del tipo Violinplot será empleado ya que ayudará a reflejar esta característica\n",
    "\n",
    "\n"
   ]
  },
  {
   "cell_type": "markdown",
   "metadata": {
    "id": "9zYdvdPswaVJ"
   },
   "source": [
    "### Análisis de los minutos de atraso por vuelo"
   ]
  },
  {
   "cell_type": "markdown",
   "metadata": {
    "id": "sqBf0Gx41HiV"
   },
   "source": [
    "Se realiza el análisis correspondiente de los **minutos de atraso** por destino, aerolínea, tipo de vuelo, dia de la semana, mes del año, temporada y periodo. En ese sentido se necesita convertir las variables **mesVuelOperado** y **diaSemVuelOperado** a tipo *'category'* para un correcto análisis"
   ]
  },
  {
   "cell_type": "code",
   "execution_count": null,
   "metadata": {
    "id": "562l0iHP2b5f"
   },
   "outputs": [],
   "source": [
    "df_analisis['diaSemVuelOperado'] = df_analisis['diaSemVuelOperado'].astype('object')\n",
    "df_analisis['mesVuelOperado'] = df_analisis['mesVuelOperado'].astype('object')"
   ]
  },
  {
   "cell_type": "markdown",
   "metadata": {
    "id": "HnWPt2sH0RPu"
   },
   "source": [
    "#### Minutos de Atraso por destino"
   ]
  },
  {
   "cell_type": "markdown",
   "metadata": {
    "id": "ptsaONfZlZ_m"
   },
   "source": [
    "Se divide el siguiente análisis por el número de vuelos para un mejor entendimiento"
   ]
  },
  {
   "cell_type": "markdown",
   "metadata": {
    "id": "n7wLIrjMl4F8"
   },
   "source": [
    "**Número de vuelos <= 6**"
   ]
  },
  {
   "cell_type": "code",
   "execution_count": null,
   "metadata": {
    "colab": {
     "base_uri": "https://localhost:8080/",
     "height": 0
    },
    "id": "QNQ0vzbtBNU4",
    "outputId": "9a914ac5-6ee2-4c47-ba4b-e2114a2ff216"
   },
   "outputs": [],
   "source": [
    "data_agrupada = df_analisis.groupby(['nombCiudadDest'],as_index=False).agg({'atraso_15': 'count','dif_min': ['mean','median','std']})\n",
    "data_agrupada.columns = ['_'.join(map(str,col)).strip() for col in data_agrupada.columns.values]\n",
    "data_agrupada.rename(columns={'nombCiudadDest_':'nombCiudadDest','atraso_15_count':'nro_vuelos'},inplace=True)\n",
    "data_agrupada=data_agrupada.sort_values(by=['nro_vuelos','dif_min_median'],ascending=True)\n",
    "data_agrupada=data_agrupada.loc[data_agrupada.nro_vuelos<=6,:]\n",
    "data_agrupada"
   ]
  },
  {
   "cell_type": "markdown",
   "metadata": {
    "id": "1pP8spjYdW_V"
   },
   "source": [
    "Se osbserva que existen destinos con poca cantidad de vuelos como **Puerto Stanley (1)**, **Cochabamba(1)** y **Quito(2)** cuyo promedio y mediana de minutos de atraso si bien son altos estos valores estan siendo afectados por la poca cantidad de número de vuelos. En ese sentido se separa los vuelos que tienen **menos y más de 6 vuelos** para un mejor entendimiento."
   ]
  },
  {
   "cell_type": "markdown",
   "metadata": {
    "id": "DltsW8FzgnUV"
   },
   "source": [
    "Se puede apreciar que estos 10 últimos destinos (menos de 6 vuelos) presentan **características climatológicas** particulares como la **altura de Cochabamba-Bolivia y Quito-Ecuador**"
   ]
  },
  {
   "cell_type": "markdown",
   "metadata": {
    "id": "KCyxIqg7l91k"
   },
   "source": [
    "**Número de vuelos > 6**"
   ]
  },
  {
   "cell_type": "code",
   "execution_count": null,
   "metadata": {
    "colab": {
     "base_uri": "https://localhost:8080/"
    },
    "id": "iwOdb4ECGqXI",
    "outputId": "e1cdb2dd-e0f4-404e-fb65-3d7cf186a361"
   },
   "outputs": [],
   "source": [
    "data_filtrada=df_analisis.loc[~df_analisis.nombCiudadDest.isin(list(data_agrupada.nombCiudadDest.values)),:]\n",
    "data_filtrada.shape"
   ]
  },
  {
   "cell_type": "code",
   "execution_count": null,
   "metadata": {
    "colab": {
     "base_uri": "https://localhost:8080/",
     "height": 0
    },
    "id": "P6iheKXImdfI",
    "outputId": "7168edda-269b-4a4c-92f6-da09a12f7a51"
   },
   "outputs": [],
   "source": [
    "data_agrupada = df_analisis.groupby(['nombCiudadDest'],as_index=False).agg({'atraso_15': 'count','dif_min': ['mean','median','std']})\n",
    "data_agrupada.columns = ['_'.join(map(str,col)).strip() for col in data_agrupada.columns.values]\n",
    "data_agrupada.rename(columns={'nombCiudadDest_':'nombCiudadDest','atraso_15_count':'nro_vuelos'},inplace=True)\n",
    "data_agrupada=data_agrupada.sort_values(by=['dif_min_median'],ascending=False)\n",
    "data_agrupada=data_agrupada.loc[data_agrupada.nro_vuelos>6,:]\n",
    "data_agrupada.head(10)"
   ]
  },
  {
   "cell_type": "code",
   "execution_count": null,
   "metadata": {
    "colab": {
     "base_uri": "https://localhost:8080/",
     "height": 0
    },
    "id": "C0DDgzZapbNO",
    "outputId": "2d24453f-d258-4edc-a9e2-4cf3fd1da34d"
   },
   "outputs": [],
   "source": [
    "data_agrupada.tail(10)"
   ]
  },
  {
   "cell_type": "code",
   "execution_count": null,
   "metadata": {
    "colab": {
     "base_uri": "https://localhost:8080/",
     "height": 0
    },
    "id": "IkF9DWtm2tX1",
    "outputId": "23270da7-78d7-4839-88b5-528bd1e17b70"
   },
   "outputs": [],
   "source": [
    "fig, ax = plt.subplots(1, figsize=(30,15))\n",
    "sns.violinplot(x=data_filtrada['nombCiudadDest'], y=data_filtrada['dif_min'],\n",
    "            order = data_filtrada.groupby(by=[\"nombCiudadDest\"])[\"dif_min\"].median().sort_values().iloc[::-1].index)\n",
    "plt.xticks(rotation = 90)\n",
    "plt.show()"
   ]
  },
  {
   "cell_type": "markdown",
   "metadata": {
    "id": "pCq-OzOR6Imz"
   },
   "source": [
    "Se observa lo siguiente:\n",
    "- **Sydney**, **Melbourne** y **Rosario** son las destinos que presentan altos valores de minutos de atraso a diferencia del resto de destinos. Teniendo una mediana de 19, 17 y 12 así como un promedio de minutos de atraso 26, 19, 19 respectivamente.\n",
    "- **Ciudad de Mexico**, **Puerto Natales**, **Calama** son los destinos que presentan bajos valores de minutos de atraso a diferencia del resto de destinos. Teniendo una mediana de 0, 1 y 2 así como un promedio de minutos de atraso 15, 12, 15 respectivamente.\n",
    "- El rango de minutos de atraso del destino **Sydney** es amplia desde el primer al tercer cuartil. Es el destino con la mayor promedio (26.9) y mediana (19) de minutos de retraso que el resto de destinos. Tiene una alta desviación estandár (28.21) ya que sus valores no son próximos a la media debido a la presencia de valores atipicos. Su **densidad o concentración de valores** **es baja** en comparación con **Cancun**, **Sao Paulo**, **Punta Arenas**, **Puerto Montt.**, **Serena** y **Calama** y **Antofagasta** que presentan mayor cantidad de vuelos con menor promedio y mediana de minutos de retraso. Algunos de estos destinos centran su atractivo turistico por sus **playas, numerosos resorts y vida nocturna**.\n",
    "- Si bien los siguientes destinos **Melbourne** y **Rosario** presentan una baja concentración de valores su promedio y mediana de minutos de atraso son altos con respecto al resto de destinos."
   ]
  },
  {
   "cell_type": "markdown",
   "metadata": {
    "id": "6FCxXErO0Tku"
   },
   "source": [
    "#### Minutos de atraso por aerolínea operada"
   ]
  },
  {
   "cell_type": "code",
   "execution_count": null,
   "metadata": {
    "colab": {
     "base_uri": "https://localhost:8080/",
     "height": 0
    },
    "id": "uutJQSNSZC0o",
    "outputId": "b65da35f-ea6f-4fff-c01f-e452ea83a1d4"
   },
   "outputs": [],
   "source": [
    "data_agrupada = df_analisis.groupby(['nombAerolineaOperado'],as_index=False).agg({'atraso_15': 'count','dif_min': ['mean','median','std']})\n",
    "data_agrupada.columns = ['_'.join(map(str,col)).strip() for col in data_agrupada.columns.values]\n",
    "data_agrupada.rename(columns={'nombAerolineaOperado_':'nombAerolineaOperado','atraso_15_count':'nro_vuelos'},inplace=True)\n",
    "data_agrupada.sort_values(by=['dif_min_median'],ascending=False)"
   ]
  },
  {
   "cell_type": "code",
   "execution_count": null,
   "metadata": {
    "colab": {
     "base_uri": "https://localhost:8080/",
     "height": 0
    },
    "id": "D_ebqDHMDU9S",
    "outputId": "f37f3e9c-be50-4874-f9eb-6d96c3f6366a"
   },
   "outputs": [],
   "source": [
    "fig, ax = plt.subplots(1, figsize=(30,15))\n",
    "sns.violinplot(x=df_analisis['nombAerolineaOperado'], y=df_analisis['dif_min'],\n",
    "            order = df_analisis.groupby(by=[\"nombAerolineaOperado\"])[\"dif_min\"].median().sort_values().iloc[::-1].index)\n",
    "plt.xticks(rotation = 90)\n",
    "plt.show()"
   ]
  },
  {
   "cell_type": "markdown",
   "metadata": {
    "id": "Gyz5wO7XHpnc"
   },
   "source": [
    "Se observa lo siguiente:\n",
    "\n",
    "- **Plus Ultra Líneas Aereas**, **Qantas Airways**, **Air Canada** son las aerolíneas que presentan altos valores de minutos de atraso a diferencia del resto de aerolíneas. Teniendo una mediana de 22,19 y 13 así como un promedio de minutos de atraso 31,26,22 respectivamente.\n",
    "- **Oceanair Linhas Aereas**, **Lacsa**, **Sky Airline** son las aerolíneas que presentan bajos valores de minutos de atraso a diferencia del resto de aerolíneas. Teniendo una mediana de 0,0 y 2 así como un promedio de minutos de atraso 6,4,8 respectivamente.\n",
    "- El rango de amplitud de minutos de atraso de la areolínea española **Plus Ultra Línea Aéreas** es amplia desde el primer al tercer cuartil, cuya mediana (22) es alta en comparación con el resto de aerolíneas. La desviación estandár (34.57) de los minutos de atraso es alta en comparación con el resto de aerolíneas debido a su alta dispersión de valores con respecto a la media, así como la presencia de valores outliers.\n",
    "- El volumen de minutos (concentración) de atraso de la aerolínea **Grupo LATAM** es amplia **desde los 0 hasta los 5 minutos de atraso**. Tiene una alta desviación estandár ya que sus valores no son próximos a la media debido a la dispersión de sus valores\n"
   ]
  },
  {
   "cell_type": "markdown",
   "metadata": {
    "id": "jo-GyxW_0vN_"
   },
   "source": [
    "#### Minutos de atraso por tipo de vuelo"
   ]
  },
  {
   "cell_type": "code",
   "execution_count": null,
   "metadata": {
    "colab": {
     "base_uri": "https://localhost:8080/",
     "height": 0
    },
    "id": "-7FNqzBRyed0",
    "outputId": "365f38eb-7e18-47ca-986e-3d56e8d96dc9"
   },
   "outputs": [],
   "source": [
    "data_agrupada = df_analisis.groupby(['tipVuelo'],as_index=False).agg({'atraso_15': 'count','dif_min': ['mean','median','std']})\n",
    "data_agrupada.columns = ['_'.join(map(str,col)).strip() for col in data_agrupada.columns.values]\n",
    "data_agrupada.rename(columns={'tipVuelo_':'tipVuelo','atraso_15_count':'nro_vuelos'},inplace=True)\n",
    "data_agrupada.sort_values(by=['dif_min_median'],ascending=False)"
   ]
  },
  {
   "cell_type": "code",
   "execution_count": null,
   "metadata": {
    "colab": {
     "base_uri": "https://localhost:8080/",
     "height": 0
    },
    "id": "V_apfw4NDlCr",
    "outputId": "bcaeab21-0401-47c9-e3f7-3ac9d2626cf2"
   },
   "outputs": [],
   "source": [
    "fig, ax = plt.subplots(1, figsize=(15,8))\n",
    "sns.violinplot(x=df_analisis['tipVuelo'], y=df_analisis['dif_min'],\n",
    "            order = df_analisis.groupby(by=[\"tipVuelo\"])[\"dif_min\"].median().sort_values().iloc[::-1].index)\n",
    "plt.xticks(rotation = 90)\n",
    "plt.show()"
   ]
  },
  {
   "cell_type": "markdown",
   "metadata": {
    "id": "AzFwrMEFGIvm"
   },
   "source": [
    "Se observa lo siguiente:\n",
    "- Se tiene una concentración en los minutos de atraso para los **Vuelos Nacionales** desde los 0 hasta los 3 min.\n",
    "- Se tiene un mayor rango en los minutos de atraso para los **Vuelos Internacionales** debido a la variabilidad de sus valores, esto se evidencia con el alto valor de su desviación estandar (21.57 min)"
   ]
  },
  {
   "cell_type": "markdown",
   "metadata": {
    "id": "8FG2FbUH0bnR"
   },
   "source": [
    "#### Minutos de atraso por dia de la semana"
   ]
  },
  {
   "cell_type": "code",
   "execution_count": null,
   "metadata": {
    "colab": {
     "base_uri": "https://localhost:8080/",
     "height": 0
    },
    "id": "zhjt3V9GL_CD",
    "outputId": "887ca2b1-034d-4682-c20c-201a7fc357f5"
   },
   "outputs": [],
   "source": [
    "data_agrupada = df_analisis.groupby(['diaSemVuelOperado'],as_index=False).agg({'atraso_15': 'count','dif_min': ['mean','median','std']})\n",
    "data_agrupada.columns = ['_'.join(map(str,col)).strip() for col in data_agrupada.columns.values]\n",
    "data_agrupada.rename(columns={'diaSemVuelOperado_':'diaSemVuelOperado','atraso_15_count':'nro_vuelos'},inplace=True)\n",
    "data_agrupada.sort_values(by=['dif_min_median'],ascending=False)"
   ]
  },
  {
   "cell_type": "code",
   "execution_count": null,
   "metadata": {
    "colab": {
     "base_uri": "https://localhost:8080/",
     "height": 0
    },
    "id": "dC-AVjXYEc6W",
    "outputId": "65e1ec70-c67f-4f7c-ca9d-5467e4971c43"
   },
   "outputs": [],
   "source": [
    "fig, ax = plt.subplots(1, figsize=(15,8))\n",
    "sns.violinplot(x=df_analisis['diaSemVuelOperado'], y=df_analisis['dif_min'],\n",
    "            order = df_analisis.groupby(by=[\"diaSemVuelOperado\"])[\"dif_min\"].median().sort_values().iloc[::-1].index)\n",
    "plt.xticks(rotation = 90)\n",
    "plt.show()"
   ]
  },
  {
   "cell_type": "markdown",
   "metadata": {
    "id": "yjrrc3egGGXl"
   },
   "source": [
    "Se observa que la proporción de viajes en cuanto al **dia de semana** no tiene mucha diferencia, son proporciones muy equitativas. Sin embargo la cantidad de minutos de atraso es mayor los **Lunes, Jueves y Viernes** que los **Martes, Miercoles, Sabado y Domingo**"
   ]
  },
  {
   "cell_type": "markdown",
   "metadata": {
    "id": "ah-yn9DC0XD3"
   },
   "source": [
    "#### Minutos de atraso por mes del año"
   ]
  },
  {
   "cell_type": "code",
   "execution_count": null,
   "metadata": {
    "colab": {
     "base_uri": "https://localhost:8080/",
     "height": 0
    },
    "id": "EbNy3EyqOid-",
    "outputId": "65f90afb-a879-4c5f-c4af-735a5abd3f37"
   },
   "outputs": [],
   "source": [
    "data_agrupada = df_analisis.groupby(['mesVuelOperado'],as_index=False).agg({'atraso_15': 'count','dif_min': ['mean','median','std']})\n",
    "data_agrupada.columns = ['_'.join(map(str,col)).strip() for col in data_agrupada.columns.values]\n",
    "data_agrupada.rename(columns={'mesVuelOperado_':'mesVuelOperado','atraso_15_count':'nro_vuelos'},inplace=True)\n",
    "data_agrupada.sort_values(by=['dif_min_median'],ascending=False)"
   ]
  },
  {
   "cell_type": "code",
   "execution_count": null,
   "metadata": {
    "colab": {
     "base_uri": "https://localhost:8080/",
     "height": 0
    },
    "id": "vmYK0DWTEytp",
    "outputId": "77a143eb-f2a0-483c-fb2a-14826a5d5f1f"
   },
   "outputs": [],
   "source": [
    "fig, ax = plt.subplots(1, figsize=(20,8))\n",
    "sns.violinplot(x=df_analisis['mesVuelOperado'], y=df_analisis['dif_min'],\n",
    "            order = df_analisis.groupby(by=[\"mesVuelOperado\"])[\"dif_min\"].median().sort_values().iloc[::-1].index)\n",
    "plt.xticks(rotation = 90)\n",
    "plt.show()"
   ]
  },
  {
   "cell_type": "markdown",
   "metadata": {
    "id": "grKh3Ce3SST6"
   },
   "source": [
    "Se observa lo siguiente:\n",
    "- El **mes de Julio registra altos valores de minutos de atraso**. Teniendo una **mediana de 7 min** y un **promedio de 15.3 min de atraso**. El rango de amplitud de minutos de atraso es más amplio, lo que indica una mayor variabilidad, esto se comprueba con la **desviación estandár (25.45 min)**, la cual es la mayor con respecto al resto de los meses.\n",
    "- **Marzo** y **Abril** son los meses que presentan bajos valores de minutos de atraso a diferencia del resto de meses. Ambos tienen una mediana de 2 min así como un **promedio 5.75 min. de atraso**. Por otro lado la **densidad** o concentración de puntos es muy amplio en los **2 min**."
   ]
  },
  {
   "cell_type": "code",
   "execution_count": null,
   "metadata": {
    "colab": {
     "base_uri": "https://localhost:8080/",
     "height": 0
    },
    "id": "oyWeE0KKFAaO",
    "outputId": "a4581298-1ad4-4f02-af75-c8709d2bffc5"
   },
   "outputs": [],
   "source": [
    "fig, ax = plt.subplots(1, figsize=(20,8))\n",
    "sns.boxplot(x=df_analisis['mesVuelOperado'], y=df_analisis['dif_min'],hue=df_analisis['atraso_15'],\n",
    "               order = df_analisis.groupby(by=[\"mesVuelOperado\"])[\"dif_min\"].median().sort_values().iloc[::-1].index)\n",
    "plt.xticks(rotation = 90)\n",
    "plt.legend(loc='upper right')\n",
    "plt.show()"
   ]
  },
  {
   "cell_type": "markdown",
   "metadata": {
    "id": "aHVVDW6wGE92"
   },
   "source": [
    "Se observa lo siguiente:\n",
    "- El **mes de Julio registra altos valores de minutos de atraso**. Teniendo una **mediana de 7 min** y un **promedio de minutos de atraso de 15.3 min**. El rango de amplitud de minutos de atraso para la clase 1 (atraso_15==1) es más amplio, yendo **desde los 30 hasta los 50 minutos de atraso**.\n",
    "- [inusual nevada en Santiago de Chile en Julio del 2017](https://www.bbc.com/mundo/noticias-america-latina-40620874). En el 2017 Santiago de Chile vivió la mayor nevada en la última década en la madrugada del sábado.El fenómeno climático dejó una persona muerta, dos heridos y más de 300.000 hogares sin suministro eléctrico.\n",
    "- **Esto permite tomar en cuenta que las condiciones climáticas afectan la tasa de atraso de un vuelo**. Así como se mencionó el análisis de las ciudad de destino."
   ]
  },
  {
   "cell_type": "markdown",
   "metadata": {
    "id": "6ia9sbJCymLz"
   },
   "source": [
    "#### Creación de la variable condición metereologica"
   ]
  },
  {
   "cell_type": "markdown",
   "metadata": {
    "id": "3Pa77Ssw0Ttv"
   },
   "source": [
    "Se crea la variable **cond_meteorologica** que permite describir inusual nevada en Santiago de Chile que provocó un muerto, dos heridos y más de 300.000 casas sin luz en Julio del 2017"
   ]
  },
  {
   "cell_type": "code",
   "execution_count": null,
   "metadata": {
    "id": "ojsIrXUSysEK"
   },
   "outputs": [],
   "source": [
    "def fx_cond_meteorologica_inusual(x):\n",
    "  if x==7:\n",
    "    return 'SI'\n",
    "  else:\n",
    "    return 'NO'\n",
    "\n",
    "df_analisis['condMeteorologica'] = df_analisis['mesVuelOperado'].apply(lambda x: fx_cond_meteorologica_inusual(x))"
   ]
  },
  {
   "cell_type": "code",
   "execution_count": null,
   "metadata": {
    "colab": {
     "base_uri": "https://localhost:8080/"
    },
    "id": "vQqWNJohzVM1",
    "outputId": "cf791e86-3cd4-4111-94a1-88f23d503904"
   },
   "outputs": [],
   "source": [
    "df_analisis.condMeteorologica.value_counts()"
   ]
  },
  {
   "cell_type": "code",
   "execution_count": null,
   "metadata": {
    "colab": {
     "base_uri": "https://localhost:8080/"
    },
    "id": "7bKDklvb0tM-",
    "outputId": "0f05bccd-3ce2-4d69-c2bf-5a1273799f6b"
   },
   "outputs": [],
   "source": [
    "df_analisis.mesVuelOperado.value_counts()"
   ]
  },
  {
   "cell_type": "markdown",
   "metadata": {
    "id": "H0-tTLNR0z5v"
   },
   "source": [
    "Se comprueba que se tiene la misma cantidad de números de vuelos que el mes de Julio"
   ]
  },
  {
   "cell_type": "markdown",
   "metadata": {
    "id": "25KaEOti0e9Y"
   },
   "source": [
    "#### Minutos de atraso por temporada"
   ]
  },
  {
   "cell_type": "code",
   "execution_count": null,
   "metadata": {
    "colab": {
     "base_uri": "https://localhost:8080/",
     "height": 0
    },
    "id": "CbHlivNPPeqk",
    "outputId": "248fde6f-fc1e-44a1-c1ac-bdd73354b84a"
   },
   "outputs": [],
   "source": [
    "data_agrupada = df_analisis.groupby(['temporada_alta'],as_index=False).agg({'atraso_15': 'count','dif_min': ['mean','median','std']})\n",
    "data_agrupada.columns = ['_'.join(map(str,col)).strip() for col in data_agrupada.columns.values]\n",
    "data_agrupada.rename(columns={'temporada_alta_':'temporada_alta','atraso_15_count':'nro_vuelos'},inplace=True)\n",
    "data_agrupada.sort_values(by=['dif_min_median'],ascending=False)"
   ]
  },
  {
   "cell_type": "code",
   "execution_count": null,
   "metadata": {
    "colab": {
     "base_uri": "https://localhost:8080/",
     "height": 0
    },
    "id": "gMuSJLnoPi31",
    "outputId": "ed96950d-9044-481a-dd7b-b437212e2ce6"
   },
   "outputs": [],
   "source": [
    "fig, ax = plt.subplots(1, figsize=(15,8))\n",
    "sns.violinplot(x=df_analisis['temporada_alta'], y=df_analisis['dif_min'],\n",
    "            order = df_analisis.groupby(by=[\"temporada_alta\"])[\"dif_min\"].median().sort_values().iloc[::-1].index)\n",
    "plt.xticks(rotation = 90)\n",
    "plt.show()"
   ]
  },
  {
   "cell_type": "code",
   "execution_count": null,
   "metadata": {
    "colab": {
     "base_uri": "https://localhost:8080/",
     "height": 0
    },
    "id": "UUOHSccHFa5b",
    "outputId": "c4b00ea0-dc49-4371-f7fc-9458c52f3d46"
   },
   "outputs": [],
   "source": [
    "plt.subplots(1, figsize=(20,8))\n",
    "sns.violinplot(x=df_analisis['temporada_alta'], y=df_analisis['dif_min'],hue=df_analisis['atraso_15'],\n",
    "               order = df_analisis.groupby(by=[\"temporada_alta\"])[\"dif_min\"].median().sort_values().iloc[::-1].index)\n",
    "plt.xticks(rotation = 90)\n",
    "plt.legend(loc='upper right')\n",
    "plt.show()"
   ]
  },
  {
   "cell_type": "markdown",
   "metadata": {
    "id": "RzSkG80eF-GT"
   },
   "source": [
    "Se observa lo siguiente:\n",
    "\n",
    "- La variable definida como **temporada_alta** presenta una mayor cantidad de minutos de retraso. Su media y mediana son más altas que los vuelos de temporada baja.\n",
    "- Ambos tiene una alta desviación estandar, sin embargo la variabilidad de los minutos de atraso para los vuelos de **temporada alta** es mayor. Teniendo una desviación estandar de 22.34 min frente a 18.68 min.\n",
    "- El rango de amplitud de minutos de atraso de los vuelos de temporada alta para la clase 1 (atraso_15==1) es más amplio, yendo **desde los 25 hasta los 50 minutos de atraso**.\n",
    "- La densidad de minutos de atraso de los vuelos de temporada baja para la clase 1 (atraso_15==1) está más concentrada en los 25 min."
   ]
  },
  {
   "cell_type": "markdown",
   "metadata": {
    "id": "nATLRuIU00g3"
   },
   "source": [
    "#### Minutos de atraso por periodo"
   ]
  },
  {
   "cell_type": "code",
   "execution_count": null,
   "metadata": {
    "colab": {
     "base_uri": "https://localhost:8080/",
     "height": 0
    },
    "id": "zzPCxaPyP9Kh",
    "outputId": "2ff902a1-5131-4937-8125-81adb52499c8"
   },
   "outputs": [],
   "source": [
    "data_agrupada = df_analisis.groupby(['periodo_dia'],as_index=False).agg({'atraso_15': 'count','dif_min': ['mean','median','std']})\n",
    "data_agrupada.columns = ['_'.join(map(str,col)).strip() for col in data_agrupada.columns.values]\n",
    "data_agrupada.rename(columns={'periodo_dia_':'periodo_dia','atraso_15_count':'nro_vuelos'},inplace=True)\n",
    "data_agrupada.sort_values(by=['dif_min_median'],ascending=False)"
   ]
  },
  {
   "cell_type": "code",
   "execution_count": null,
   "metadata": {
    "colab": {
     "base_uri": "https://localhost:8080/",
     "height": 0
    },
    "id": "IZEQ3TGtz97-",
    "outputId": "f19bdc0c-bdaf-4005-ffb5-d17a3bc16fcc"
   },
   "outputs": [],
   "source": [
    "fig, ax = plt.subplots(1, figsize=(15,8))\n",
    "sns.violinplot(x=df_analisis['periodo_dia'], y=df_analisis['dif_min'],\n",
    "            order = df_analisis.groupby(by=[\"periodo_dia\"])[\"dif_min\"].median().sort_values().iloc[::-1].index)\n",
    "plt.xticks(rotation = 90)\n",
    "plt.show()"
   ]
  },
  {
   "cell_type": "code",
   "execution_count": null,
   "metadata": {
    "colab": {
     "base_uri": "https://localhost:8080/",
     "height": 0
    },
    "id": "NIIHT8EOz9-t",
    "outputId": "74f88651-69f6-4d42-c2b0-c8bb77d307f8"
   },
   "outputs": [],
   "source": [
    "plt.subplots(1, figsize=(20,8))\n",
    "sns.violinplot(x=df_analisis['periodo_dia'], y=df_analisis['dif_min'],hue=df_analisis['atraso_15'],\n",
    "               order = df_analisis.groupby(by=[\"periodo_dia\"])[\"dif_min\"].median().sort_values().iloc[::-1].index)\n",
    "plt.xticks(rotation = 90)\n",
    "plt.legend(loc='upper right')\n",
    "plt.show()"
   ]
  },
  {
   "cell_type": "markdown",
   "metadata": {
    "id": "xkodymDSFxiY"
   },
   "source": [
    "- Se observa que la mayoria de las personas prefiere viajar por la **mañana** y la **tarde**. \n",
    "- La cantidad de minutos de atraso es mayor en la tarde y en la noche.\n",
    "- El rango de amplitud de minutos de atraso de los **vuelos de noche** para la clase 1 (atraso_15==1) es más amplio, yendo **desde los 25 hasta los 75 minutos de atraso**.\n",
    "- La densidad de minutos de atraso de los **vuelos de la mañana** para la clase 1 (atraso_15==1) está más concentrada en los 25 min."
   ]
  },
  {
   "cell_type": "markdown",
   "metadata": {
    "id": "PBby2A1PwfP4"
   },
   "source": [
    "### Análisis de las rutas de mayor frecuencia (Grafos)"
   ]
  },
  {
   "cell_type": "code",
   "execution_count": null,
   "metadata": {
    "colab": {
     "base_uri": "https://localhost:8080/",
     "height": 0
    },
    "id": "3fR9T054HFgi",
    "outputId": "7bc3402d-6c55-492d-daea-e0ea5e6dc3e0"
   },
   "outputs": [],
   "source": [
    "data_agrupada = df_analisis.groupby(['nombCiudadOrig','nombCiudadDest'],as_index=False).agg({'atraso_15': 'count'})\n",
    "data_agrupada.rename(columns={'atraso_15':'nro_vuelos'},inplace=True)\n",
    "data_agrupada.sort_values(by=['nro_vuelos'],ascending=False,inplace=True)\n",
    "data_agrupada[\"% Total\"] = data_agrupada['nro_vuelos']/len(df_analisis)*100\n",
    "data_agrupada.head(10)"
   ]
  },
  {
   "cell_type": "markdown",
   "metadata": {
    "id": "KIgEMYkSHfV2"
   },
   "source": [
    "Se contempla el análisis de las rutas de mayor y menor frecuencia que indican cuales son los orígenes y destinos con más y menos número de vuelos (densidad), sin embargo como se aprecia la ciudad de origen es la misma para todos los vuelos. \n",
    "\n",
    "Este tipo de análisis puede ser de vital importancia en caso se tengan múltiples origenes, ya que permite saber cuales son las rutas de mayor y menor frecuencia\n",
    "\n",
    "**Así mismo se podría considerar el análisis de las rutas mediante el análisis de grafos considerando como conectores:**\n",
    "- Tasa de Atraso\n",
    "- Cantidad de vuelos\n",
    "\n",
    "Se puede implementar este tipo de análisis para una mejor comprensión de la densidad de los nodos."
   ]
  },
  {
   "cell_type": "code",
   "execution_count": null,
   "metadata": {
    "id": "L8a1IMsVdG_b"
   },
   "outputs": [],
   "source": [
    "df_analisis.drop('nombCiudadOrig', axis=1, inplace=True)"
   ]
  },
  {
   "cell_type": "markdown",
   "metadata": {
    "id": "YC8Khx7ndJ0s"
   },
   "source": [
    "Se procede a eliminar esta variable ya que tiene un solo valor. No aporta nada en el proceso de aprendizaje ya que no permite diferenciar una clase de otra"
   ]
  },
  {
   "cell_type": "markdown",
   "metadata": {
    "id": "M_i7tbS2_V3l"
   },
   "source": [
    "### Análisis de los vuelos Programados vs Operados"
   ]
  },
  {
   "cell_type": "markdown",
   "metadata": {
    "id": "dd4SKelpvMA-"
   },
   "source": [
    "Se realiza el análisis de las siguientes variables:\n",
    "*   **nroVuelProg**\n",
    "*   **codCiudadDestProg**\n",
    "*   **codAerolineaVuelProg**\n",
    "\n",
    "\n",
    "*   **nroVuelOperado**\n",
    "*   **codCiudadDestOperado**\n",
    "*   **codAerolineaVuelOperado**\n"
   ]
  },
  {
   "cell_type": "code",
   "execution_count": null,
   "metadata": {
    "colab": {
     "base_uri": "https://localhost:8080/",
     "height": 0
    },
    "id": "TVuALY_QE6B5",
    "outputId": "2842b58c-1d32-4cc4-c68a-74eb322a7c07"
   },
   "outputs": [],
   "source": [
    "df_analisis[['nroVuelProg','nroVuelOperado','codCiudadDestProg','codCiudadDestOperado','codAerolineaVuelProg','codAerolineaVuelOperado']].describe(include='all')"
   ]
  },
  {
   "cell_type": "code",
   "execution_count": null,
   "metadata": {
    "colab": {
     "base_uri": "https://localhost:8080/"
    },
    "id": "o4D2WJrcVznn",
    "outputId": "671cc2bb-0968-4789-c257-9c02cf9b65f7"
   },
   "outputs": [],
   "source": [
    "df_analisis.nroVuelProg.value_counts(normalize = True).head(30)*100"
   ]
  },
  {
   "cell_type": "code",
   "execution_count": null,
   "metadata": {
    "colab": {
     "base_uri": "https://localhost:8080/"
    },
    "id": "7g7xO9R-V8wi",
    "outputId": "bce1f44d-8bce-473f-d136-a5efb2ee3cd5"
   },
   "outputs": [],
   "source": [
    "df_analisis.nroVuelOperado.value_counts(normalize = True).head(30)*100"
   ]
  },
  {
   "cell_type": "markdown",
   "metadata": {
    "id": "6bMcNIZjRtcD"
   },
   "source": [
    "Se puede observar muchas categorias en las variables **nroVuelProg** y **nroVuelOperado**, esto es un sintoma de mucha variabilidad que no ayuda en la diferencia de una clase con otra, por lo que se decide no tomarlas en cuenta para la etapa de aprendizaje"
   ]
  },
  {
   "cell_type": "code",
   "execution_count": null,
   "metadata": {
    "colab": {
     "base_uri": "https://localhost:8080/"
    },
    "id": "jaNkL_vZW6u3",
    "outputId": "3b7be833-ef9d-445f-83c2-382136179d11"
   },
   "outputs": [],
   "source": [
    "df_analisis.codCiudadDestProg.value_counts(normalize = True).head(30)*100"
   ]
  },
  {
   "cell_type": "code",
   "execution_count": null,
   "metadata": {
    "colab": {
     "base_uri": "https://localhost:8080/"
    },
    "id": "sAkC5HhOYgKv",
    "outputId": "29384398-2280-47b0-c68f-cc84aecfcf4c"
   },
   "outputs": [],
   "source": [
    "df_analisis.codCiudadDestOperado.value_counts(normalize = True).head(30)*100"
   ]
  },
  {
   "cell_type": "markdown",
   "metadata": {
    "id": "HE2Ez8xsYmED"
   },
   "source": [
    "A pesar que estas variables tienen bastantes categorias, agrupandolas según **CONVERSION CON RESPECTO AL TARGET(TASA DE RETRASO)** o **FRECUENCIA DE VUELOS** pueden resultar útiles para el modelo "
   ]
  },
  {
   "cell_type": "code",
   "execution_count": null,
   "metadata": {
    "colab": {
     "base_uri": "https://localhost:8080/"
    },
    "id": "sBaC9479bRKh",
    "outputId": "767ccb3a-b3aa-4f02-fead-c34c2daf5368"
   },
   "outputs": [],
   "source": [
    "df_analisis.codAerolineaVuelProg.value_counts(normalize = True)*100"
   ]
  },
  {
   "cell_type": "code",
   "execution_count": null,
   "metadata": {
    "colab": {
     "base_uri": "https://localhost:8080/"
    },
    "id": "IE9KT9fabhhz",
    "outputId": "fd15e046-393e-45cb-9590-a6578bf702bd"
   },
   "outputs": [],
   "source": [
    "df_analisis.codAerolineaVuelOperado.value_counts(normalize = True)*100"
   ]
  },
  {
   "cell_type": "markdown",
   "metadata": {
    "id": "lifAyYyNbsni"
   },
   "source": [
    "A pesar que estas variables tienen bastantes categorias, agrupandolas según **CONVERSION CON RESPECTO AL TARGET(TASA DE RETRASO)** o **FRECUENCIA DE VUELOS** pueden resultar útiles para el modelo \n",
    "\n",
    "- El 75% de la variable **codAerolineaVuelProg** se reparte entre LAN y SKU, teniendo una frecuencia en el número de vuelos de 55% y 20% respectivamente\n",
    "- El 73% de la variable **codAerolineaVuelOperado** se reparte entre LAN, LXP y SKU, teniendo una frecuencia en el número de vuelos de 31%, 21% y 21% respectivamente\n",
    "\n"
   ]
  },
  {
   "cell_type": "markdown",
   "metadata": {
    "id": "Z-irY8vTq2ym"
   },
   "source": [
    "#### Creacion de la hora en base a la Fecha operativa del vuelo"
   ]
  },
  {
   "cell_type": "code",
   "execution_count": null,
   "metadata": {
    "id": "lKBk4JUbrFK2"
   },
   "outputs": [],
   "source": [
    "df_analisis['horaOperVuelo']=df_analisis['fecVuelOperado'].dt.hour"
   ]
  },
  {
   "cell_type": "code",
   "execution_count": null,
   "metadata": {
    "id": "mM5mFvcpsdoo"
   },
   "outputs": [],
   "source": [
    "df_analisis[\"horaOperVuelo\"]=df_analisis['horaOperVuelo'].astype('str')"
   ]
  },
  {
   "cell_type": "code",
   "execution_count": null,
   "metadata": {
    "colab": {
     "base_uri": "https://localhost:8080/"
    },
    "id": "AbZiuRyRtnDs",
    "outputId": "286add56-bebc-4223-d2a0-bf89a67fc0f5"
   },
   "outputs": [],
   "source": [
    "df_analisis.horaOperVuelo.value_counts(normalize= True)*100"
   ]
  },
  {
   "cell_type": "markdown",
   "metadata": {
    "id": "wRFC5PH2cR3R"
   },
   "source": [
    "#### Creación de campos de validación para revisar si lo programado es igual a lo operado"
   ]
  },
  {
   "cell_type": "code",
   "execution_count": null,
   "metadata": {
    "id": "lP6DkKDSAJxq"
   },
   "outputs": [],
   "source": [
    "# Validación para ver si lo programado es igual a lo operado\n",
    "df_analisis['cambioNroVuelo'] = df_analisis.apply(lambda x: '0' if x['nroVuelProg']==x['nroVuelOperado'] else '1', axis=1)\n",
    "df_analisis['cambioCodCiudadDest'] = df_analisis.apply(lambda x: '0' if x['codCiudadDestProg']==x['codCiudadDestOperado'] else '1', axis=1)\n",
    "df_analisis['cambioCodAerolineaVuelo'] = df_analisis.apply(lambda x:'0' if x['codAerolineaVuelProg']==x['codAerolineaVuelOperado'] else '1', axis=1)"
   ]
  },
  {
   "cell_type": "code",
   "execution_count": null,
   "metadata": {
    "colab": {
     "base_uri": "https://localhost:8080/"
    },
    "id": "dNhsvncOFhFe",
    "outputId": "8b2db6ee-2b02-4e43-d5e2-e005cd36d402"
   },
   "outputs": [],
   "source": [
    "print(df_analisis.groupby(df_analisis['cambioNroVuelo']).size())\n",
    "print(\"------------\")\n",
    "print(df_analisis.groupby(df_analisis['cambioCodCiudadDest']).size())\n",
    "print(\"------------\")\n",
    "print(df_analisis.groupby(df_analisis['cambioCodAerolineaVuelo']).size())"
   ]
  },
  {
   "cell_type": "markdown",
   "metadata": {
    "id": "JhcHk1Cy_VGe"
   },
   "source": [
    "- El **nroVuelProg** y **nroVuelOperado** se observa que tienen diferencias en sus categorias. El número de vuelo programado cambio con respecto al operado en un **6.6%** del total de vuelos.\n",
    "- El **codCiudadDestProg** y **codCiudadDestOperado** se observa que tienen diferencias en sus categorias. La ciudad destino programado cambio con respecto al operado en un **0.04%%** del total de vuelos.\n",
    "- El **codAerolineaVuelProg** y **codAerolineaVuelOperado** se observa que tienen diferencias en sus categorias. El código de la aerolínea programada cambio con respecto al operado en un **27.37%%** del total de vuelos\n",
    "\n",
    "Las nuevas variables. **cambioNroVuelo**, **cambioCodAerolineaVuelo** tienen la posibilidad de ser empleadas en el proceso de entrenamiento. Por otro lado las variable **cambioCodCiudadDest** no serán usadas debido a la baja varianza.\n"
   ]
  },
  {
   "cell_type": "code",
   "execution_count": null,
   "metadata": {
    "id": "9X-4yE7lRCGy"
   },
   "outputs": [],
   "source": [
    "df_analisis.drop('cambioCodCiudadDest', axis=1, inplace=True)"
   ]
  },
  {
   "cell_type": "markdown",
   "metadata": {
    "id": "lCd89zcnjqZ6"
   },
   "source": [
    "Se puede observar muchas categorias en las variables **nroVuelProg** y **nroVuelOperado** y ninguna de las categorias reune un porcentaje mayor con respecto a otra, esto es un sintoma de mucha variabilidad que no ayuda en la diferencia de una clase con otra. En ese sentido se omite las siguientes campos dado que tienen mucha variabilidad (se puede observar que existen demasiadas categorías en las variables) lo cual no ayudaria a hacer alguna distinción con el target:\n",
    "\n",
    "nro. de categorias en **nroVuelProg**: 584\n",
    "\n",
    "nro. de categorias en **nroVuelOperado** : 861\n",
    "\n",
    "**Si no se desea omitir una alternativa es conversar con el negocio para que nos proporcione un mejor entendiminto de estas variables y asi poder considerarlas.**"
   ]
  },
  {
   "cell_type": "code",
   "execution_count": null,
   "metadata": {
    "id": "6VDv-Rpqj0To"
   },
   "outputs": [],
   "source": [
    "df_analisis.drop('nroVuelProg', axis=1, inplace=True)\n",
    "df_analisis.drop('nroVuelOperado', axis=1, inplace=True)"
   ]
  },
  {
   "cell_type": "markdown",
   "metadata": {
    "id": "Pf_6wvgHw9WP"
   },
   "source": [
    "### Análisis de la tasa de atraso (Conversión con el target)"
   ]
  },
  {
   "cell_type": "markdown",
   "metadata": {
    "id": "ecEdqGmqeldt"
   },
   "source": [
    "Para realizar el análisis de la tasa de atraso por categoría de cada variable cualitativa (pudiendo ser cuantitativa dividida en deciles) se emplea la tasa de conversión del target que me interesa (retraso_15=1). **Se calcula tomando la cantidad de valores de retraso_15=1 con respecto al total de valores de cada categoría**"
   ]
  },
  {
   "cell_type": "code",
   "execution_count": null,
   "metadata": {
    "id": "pKFo9qZwcy3A"
   },
   "outputs": [],
   "source": [
    "# Se realiza una copia del dataframe de análisis\n",
    "df_analisis_bi = df_analisis.copy()"
   ]
  },
  {
   "cell_type": "code",
   "execution_count": null,
   "metadata": {
    "id": "H5zNgoukc0qL"
   },
   "outputs": [],
   "source": [
    "# División de las variables según naturaleza\n",
    "feat_numerical_bi = ['dif_min']\n",
    "\n",
    "feat_categorical_bi = [\n",
    " 'codCiudadDestProg',\n",
    " 'codAerolineaVuelProg',\n",
    " 'codCiudadDestOperado',\n",
    " 'codAerolineaVuelOperado',\n",
    " 'diaSemVuelOperado',\n",
    " 'mesVuelOperado',\n",
    " 'tipVuelo',\n",
    " 'nombAerolineaOperado',\n",
    " 'nombCiudadDest',\n",
    " 'temporada_alta',\n",
    " 'periodo_dia',\n",
    " 'horaOperVuelo',\n",
    " 'cambioNroVuelo',\n",
    " 'cambioCodAerolineaVuelo',\n",
    " 'condMeteorologica']"
   ]
  },
  {
   "cell_type": "code",
   "execution_count": null,
   "metadata": {
    "id": "trDWEsDLdqCQ"
   },
   "outputs": [],
   "source": [
    "# Conversion del tipo de dato\n",
    "df_analisis_bi['atraso_15']=df_analisis_bi['atraso_15'].astype('int64')\n",
    "\n",
    "for var in feat_categorical_bi:\n",
    "  df_analisis_bi[var] = df_analisis_bi[var].astype('category')"
   ]
  },
  {
   "cell_type": "code",
   "execution_count": null,
   "metadata": {
    "colab": {
     "base_uri": "https://localhost:8080/",
     "height": 0
    },
    "id": "79s888FLdsGM",
    "outputId": "88b54be1-ddaa-4a6b-c5a1-16c532a7e390"
   },
   "outputs": [],
   "source": [
    "# Creación del dataframe meta\n",
    "v=pd.DataFrame({\"variable\": df_analisis_bi.columns.values})\n",
    "t=pd.DataFrame({\"tipo\": df_analisis_bi.dtypes.values})\n",
    "meta=pd.concat([v, t], axis=1)\n",
    "meta=meta.loc[(meta['tipo']=='category'),:]\n",
    "meta"
   ]
  },
  {
   "cell_type": "markdown",
   "metadata": {
    "id": "CMkkHw5tfs11"
   },
   "source": [
    "En el siguiente reporte se muestra el análisis de la tasa de atraso por categoría de cada variable cualitativa (pudiendo ser cuantitativa dividida en deciles) se emplea la tasa de conversión del target que me interesa (retraso_15=1). **Se calcula tomando la cantidad de valores de retraso_15=1 con respecto al total de valores de cada categoría**"
   ]
  },
  {
   "cell_type": "code",
   "execution_count": null,
   "metadata": {
    "colab": {
     "base_uri": "https://localhost:8080/",
     "height": 0
    },
    "id": "cHJjpzRXu_aA",
    "outputId": "ca675f07-0db3-4483-8e78-41b18df3dfff"
   },
   "outputs": [],
   "source": [
    "# Reporte para conocer la tasa de atraso\n",
    "plot_graph_bivariable(df_analisis_bi, meta,'atraso_15')"
   ]
  },
  {
   "cell_type": "markdown",
   "metadata": {
    "id": "WcDJGiOLvmp3"
   },
   "source": [
    "Este análisis nos permite visualizar por tipo categoria de la variable cualitativa y decil de la variable cuantitativa la tasa de atraso (su participación con respecto al target). Este análisis nos ayudará:\n",
    "- **Cuales son las categorías de las variables que más influyeran en predecir atrasos**\n",
    "- Conocer saber como podemos agrupar las variables, así como la representatividad con respecto al target de importancia.\n",
    "\n",
    "Algunas insights obtenidos del análisis de la tasa de atraso:\n",
    "\n",
    "- A pesar de tener menor proporción la categoria **Internacional** tiene un nivel alto de conversión, para predecir la probabilidad de atraso de los vuelos que aterrizan o despegan del aeropuerto de Santiago de Chile (SCL).\n",
    "- La proporción de viajes en cuanto al **dia de semana** no tiene mucha diferencia, son proporciones muy equitativas. Sin embargo su tasa de atraso es mayor los **Lunes, Jueves y Viernes** que los **Martes, Miercoles, Sabado y Domingo**\n",
    "- Se observa que la mayoria de las personas prefiere viajar por la **mañana** y la **tarde**. Siendo la de menor preferencia por la **noche**, sin embargo la esta categoria tiene un mayor ratio de conversión con respecto al target, **es decir tiene una mayor tasa de retraso**"
   ]
  },
  {
   "cell_type": "markdown",
   "metadata": {
    "id": "A8vua_8u3w24"
   },
   "source": [
    "# Preparación de los datos"
   ]
  },
  {
   "cell_type": "code",
   "execution_count": null,
   "metadata": {
    "id": "O6EN87bT3xMw"
   },
   "outputs": [],
   "source": [
    "df_prep= df_analisis.copy()"
   ]
  },
  {
   "cell_type": "code",
   "execution_count": null,
   "metadata": {
    "id": "HQHU9EFgxJUW"
   },
   "outputs": [],
   "source": [
    "feat_numerical_ = ['dif_min']\n",
    "\n",
    "feat_categorical_ = [\n",
    " 'codCiudadDestProg',\n",
    " 'codAerolineaVuelProg',\n",
    " 'codCiudadDestOperado',\n",
    " 'codAerolineaVuelOperado',\n",
    " 'diaSemVuelOperado',\n",
    " 'mesVuelOperado',\n",
    " 'tipVuelo',\n",
    " 'nombAerolineaOperado',\n",
    " 'nombCiudadDest',\n",
    " 'temporada_alta',\n",
    " 'periodo_dia',\n",
    " 'horaOperVuelo',\n",
    " 'cambioNroVuelo',\n",
    " 'cambioCodAerolineaVuelo',\n",
    " 'condMeteorologica']"
   ]
  },
  {
   "cell_type": "code",
   "execution_count": null,
   "metadata": {
    "id": "A8U9rk5KxMf9"
   },
   "outputs": [],
   "source": [
    "# Conversion del tipo de dato\n",
    "df_prep['atraso_15']=df_prep['atraso_15'].astype('int64')\n",
    "\n",
    "for var in feat_categorical_:\n",
    "  df_prep[var] = df_prep[var].astype('category')"
   ]
  },
  {
   "cell_type": "markdown",
   "metadata": {
    "id": "zm0ZHaO537ZQ"
   },
   "source": [
    "### Variables cualitativas de alta cardinalidad"
   ]
  },
  {
   "cell_type": "markdown",
   "metadata": {
    "id": "FdGmMWZ8McQA"
   },
   "source": [
    "\n",
    "Se busca que al moverme de una categoría a otra el porcentaje del target que me interesa **(atraso_15==1)** cambie favorablemente para diferenciar una clase de otra. En ese sentido este tipo de variables de alta cardinalidad se agrupan según:\n",
    "- **Ratio del total de vuelos**\n",
    "- **Tasa de Atraso (conversión con respecto al target)**\n",
    "\n",
    "Se utiliza la función **cross_target** que calcula los porcentajes de conversión del target por cada categoria de la variable (También se denomina tasa de atraso)"
   ]
  },
  {
   "cell_type": "markdown",
   "metadata": {
    "id": "gxvNJge2hqbF"
   },
   "source": [
    "#### Nombre de la ciudad Destino"
   ]
  },
  {
   "cell_type": "code",
   "execution_count": null,
   "metadata": {
    "colab": {
     "base_uri": "https://localhost:8080/"
    },
    "id": "NRCGsrwLhssc",
    "outputId": "4b4ff245-e32b-4f16-e4d6-64466f6fd7fd"
   },
   "outputs": [],
   "source": [
    "cross_target(df_prep,'nombCiudadDest','atraso_15')"
   ]
  },
  {
   "cell_type": "markdown",
   "metadata": {
    "id": "LwIlmp-JaV0u"
   },
   "source": [
    "Se decide agrupar las categorías según su **ratio del total de vuelos**. Se construye la categoría **OTRO** tomando las categorías que tengan una **participación menor del 1%**"
   ]
  },
  {
   "cell_type": "code",
   "execution_count": null,
   "metadata": {
    "id": "fBe8TBcRh3_j"
   },
   "outputs": [],
   "source": [
    "def fx_nombCiudadDest(x):\n",
    "    if x in ['Buenos Aires','Antofagasta','Lima','Calama','Puerto Montt','Concepcion','Iquique','Sao Paulo','Temuco','Arica','La Serena','Punta Arenas','Ciudad de Panama',\n",
    "             'Copiapo','Mendoza','Bogota','Rio de Janeiro','Montevideo','Cordoba','Miami','Madrid','Balmaceda','Valdivia','Ciudad de Mexico']:\n",
    "        return x\n",
    "    else:\n",
    "        return 'OTRO'\n",
    "\n",
    "df_prep['nombCiudadDest'] = df_prep['nombCiudadDest'].apply(lambda x: fx_nombCiudadDest(x))"
   ]
  },
  {
   "cell_type": "code",
   "execution_count": null,
   "metadata": {
    "colab": {
     "base_uri": "https://localhost:8080/"
    },
    "id": "A0ye6Fs-it7V",
    "outputId": "c023f98e-dff9-42ac-d02b-0be49ba03d2d"
   },
   "outputs": [],
   "source": [
    "cross_target(df_prep,'nombCiudadDest','atraso_15')"
   ]
  },
  {
   "cell_type": "markdown",
   "metadata": {
    "id": "WzXbYJjpjA-c"
   },
   "source": [
    "Se aprecia que **Buenos Aires** y **Lima**, dos destinos internacionales, tienen un alto porcentaje de valores así con un alto valor de conversión.\n",
    "\n",
    "Por otro lado debido a que esta variable se convertirá en una variable del tipo dummy para evitar problemas con el nombre se realiza la siguiente transformación:"
   ]
  },
  {
   "cell_type": "code",
   "execution_count": null,
   "metadata": {
    "id": "c7l_wxr7cHTx"
   },
   "outputs": [],
   "source": [
    "df_prep.loc[df_prep['nombCiudadDest']=='Buenos Aires',['nombCiudadDest']]='Buenos_Aires'\n",
    "df_prep.loc[df_prep['nombCiudadDest']=='Puerto Montt',['nombCiudadDest']]='Puerto_Montt'\n",
    "df_prep.loc[df_prep['nombCiudadDest']=='Sao Paulo',['nombCiudadDest']]='Sao_Paulo'\n",
    "df_prep.loc[df_prep['nombCiudadDest']=='La Serena',['nombCiudadDest']]='La_Serena'\n",
    "df_prep.loc[df_prep['nombCiudadDest']=='Sao Paulo',['nombCiudadDest']]='Sao_Paulo'\n",
    "df_prep.loc[df_prep['nombCiudadDest']=='Punta Arenas',['nombCiudadDest']]='Punta_Arenas'\n",
    "df_prep.loc[df_prep['nombCiudadDest']=='Ciudad de Panama',['nombCiudadDest']]='Ciudad_de_Panama'\n",
    "df_prep.loc[df_prep['nombCiudadDest']=='Rio de Janeiro',['nombCiudadDest']]='Rio_de_Janeiro'\n",
    "df_prep.loc[df_prep['nombCiudadDest']=='Ciudad de Mexico',['nombCiudadDest']]='Ciudad_de_Mexico'"
   ]
  },
  {
   "cell_type": "code",
   "execution_count": null,
   "metadata": {
    "colab": {
     "base_uri": "https://localhost:8080/"
    },
    "id": "StnUmONfa1yc",
    "outputId": "eba9effe-7e5f-4386-868a-517936f82caa"
   },
   "outputs": [],
   "source": [
    "cross_target(df_prep,'nombCiudadDest','atraso_15')"
   ]
  },
  {
   "cell_type": "markdown",
   "metadata": {
    "id": "_TelC4_mORCB"
   },
   "source": [
    "#### Codigo de la ciudad del destino programado"
   ]
  },
  {
   "cell_type": "code",
   "execution_count": null,
   "metadata": {
    "colab": {
     "base_uri": "https://localhost:8080/"
    },
    "id": "Joydqrx4jryt",
    "outputId": "444db10c-cda7-4709-bee5-5fc8e1160d87"
   },
   "outputs": [],
   "source": [
    "cross_target(df_prep,'codCiudadDestProg','atraso_15')"
   ]
  },
  {
   "cell_type": "markdown",
   "metadata": {
    "id": "9Jo_6CgnMYAj"
   },
   "source": [
    "Se decide agrupar las categorías según su **ratio del total de vuelos**. Se construye la categoría **OTRO** tomando las categorías que tengan una **participación menor del 1%**"
   ]
  },
  {
   "cell_type": "code",
   "execution_count": null,
   "metadata": {
    "id": "f_iTlQxykXUV"
   },
   "outputs": [],
   "source": [
    "def fx_codCiudadDestProg(x):\n",
    "    if x in ['SCFA','SPJC','SCCF','SCTE','SCIE','SCDA','SBGR','SAEZ','SABE','SCQP','SCAR','SCSE',\n",
    "             'SCCI','MPTO','SCAT','SAME','SKBO','SBGL','SUMU','SACO','KMIA','LEMD','SCBA','SCVD']:\n",
    "        return x\n",
    "    else:\n",
    "        return 'OTRO'\n",
    "\n",
    "df_prep['codCiudadDestProg'] = df_prep['codCiudadDestProg'].apply(lambda x: fx_codCiudadDestProg(x))"
   ]
  },
  {
   "cell_type": "code",
   "execution_count": null,
   "metadata": {
    "colab": {
     "base_uri": "https://localhost:8080/"
    },
    "id": "SvEqkDvmlXyl",
    "outputId": "7c51cf72-93ed-4367-f515-c12369322b9f"
   },
   "outputs": [],
   "source": [
    "cross_target(df_prep,'codCiudadDestProg','atraso_15')"
   ]
  },
  {
   "cell_type": "markdown",
   "metadata": {
    "id": "s5G0oVflRZGJ"
   },
   "source": [
    "#### Codigo de la ciudad destino operado"
   ]
  },
  {
   "cell_type": "code",
   "execution_count": null,
   "metadata": {
    "colab": {
     "base_uri": "https://localhost:8080/"
    },
    "id": "EsQVF3i6lyIT",
    "outputId": "dadf129a-7a0a-4dea-862c-43f746c56372"
   },
   "outputs": [],
   "source": [
    "cross_target(df_prep,'codCiudadDestOperado','atraso_15')"
   ]
  },
  {
   "cell_type": "markdown",
   "metadata": {
    "id": "H7QEnLJSTQG-"
   },
   "source": [
    "Se decide agrupar las categorías según su **ratio del total de vuelos**. Se construye la categoría **OTRO** tomando las categorías que tengan una **participación menor del 1%**"
   ]
  },
  {
   "cell_type": "code",
   "execution_count": null,
   "metadata": {
    "id": "MvzJsa-kl9vj"
   },
   "outputs": [],
   "source": [
    "def fx_codCiudadDestOper(x):\n",
    "    if x in ['SCFA','SPJC','SCCF','SCTE','SCIE','SCDA','SBGR','SAEZ','SABE','SCQP','SCAR','SCSE',\n",
    "             'SCCI','MPTO','SCAT','SAME','SKBO','SBGL','SUMU','SACO','KMIA','LEMD','SCBA','SCVD']:\n",
    "        return x\n",
    "    else:\n",
    "        return 'OTRO'\n",
    "\n",
    "df_prep['codCiudadDestOperado'] = df_prep['codCiudadDestOperado'].apply(lambda x: fx_codCiudadDestOper(x))"
   ]
  },
  {
   "cell_type": "code",
   "execution_count": null,
   "metadata": {
    "colab": {
     "base_uri": "https://localhost:8080/"
    },
    "id": "IyNHQMNkml57",
    "outputId": "417657e0-9e68-479b-fb3b-f92bc811989b"
   },
   "outputs": [],
   "source": [
    "cross_target(df_prep,'codCiudadDestOperado','atraso_15')"
   ]
  },
  {
   "cell_type": "markdown",
   "metadata": {
    "id": "6L-GJpcrms9u"
   },
   "source": [
    "Al aplicar este tipo de tratamiento podemos observar que esta variable se comporta de la misma manera que la variable **codCiudadDestProg** en ese sentido eliminaremos una de ellas"
   ]
  },
  {
   "cell_type": "code",
   "execution_count": null,
   "metadata": {
    "id": "HmBe3lJAnI9w"
   },
   "outputs": [],
   "source": [
    "df_prep.drop(['codCiudadDestProg'],axis=1,inplace=True)"
   ]
  },
  {
   "cell_type": "markdown",
   "metadata": {
    "id": "fQaCrl8xXx5W"
   },
   "source": [
    "#### Nombre de la aerolinea que opera"
   ]
  },
  {
   "cell_type": "code",
   "execution_count": null,
   "metadata": {
    "colab": {
     "base_uri": "https://localhost:8080/"
    },
    "id": "EOy0ER_uf7Qb",
    "outputId": "462a3054-497c-466b-8ef7-80e820925a5e"
   },
   "outputs": [],
   "source": [
    "cross_target(df_prep,'nombAerolineaOperado','atraso_15')"
   ]
  },
  {
   "cell_type": "markdown",
   "metadata": {
    "id": "Upvnp3eWYCz5"
   },
   "source": [
    "Se decide no agrupar las categorías ya que mantiene una buena proporción en el número de vuelos y tasa de atraso"
   ]
  },
  {
   "cell_type": "code",
   "execution_count": null,
   "metadata": {
    "id": "FDe6lqufgGw-"
   },
   "outputs": [],
   "source": [
    "#def fx_aerolineaOpera(x):\n",
    "#    if x in ['Grupo LATAM','Sky Airline']:\n",
    "#        return x\n",
    "#    else:\n",
    "#        return 'OTRO'\n",
    "\n",
    "#df_prep['nombAerolineaOperado'] = df_prep['nombAerolineaOperado'].apply(lambda x: fx_aerolineaOpera(x))"
   ]
  },
  {
   "cell_type": "markdown",
   "metadata": {
    "id": "QKjZjG9gZMvu"
   },
   "source": [
    "Se cambia el nombre de cada categoría por un nombre que no contenga espacios para un mejor tratamiento"
   ]
  },
  {
   "cell_type": "code",
   "execution_count": null,
   "metadata": {
    "id": "UIA0N3cCuMJf"
   },
   "outputs": [],
   "source": [
    "df_prep['nombAerolineaOperado'] = df_prep['nombAerolineaOperado'].astype('object')"
   ]
  },
  {
   "cell_type": "code",
   "execution_count": null,
   "metadata": {
    "id": "Kz1znT3Dd1iS"
   },
   "outputs": [],
   "source": [
    "df_prep.loc[df_prep['nombAerolineaOperado']=='Grupo LATAM',['nombAerolineaOperado']]='Grupo_LATAM'\n",
    "df_prep.loc[df_prep['nombAerolineaOperado']=='Sky Airline',['nombAerolineaOperado']]='Sky_Airline'\n",
    "df_prep.loc[df_prep['nombAerolineaOperado']=='Aerolineas Argentinas',['nombAerolineaOperado']]='Aerolineas_Argentinas'\n",
    "df_prep.loc[df_prep['nombAerolineaOperado']=='Copa Air',['nombAerolineaOperado']]='Copa_Air'\n",
    "df_prep.loc[df_prep['nombAerolineaOperado']=='Latin American Wings',['nombAerolineaOperado']]='Latin_American_Wings'\n",
    "df_prep.loc[df_prep['nombAerolineaOperado']=='JetSmart SPA',['nombAerolineaOperado']]='JetSmart_SPA'\n",
    "df_prep.loc[df_prep['nombAerolineaOperado']=='Gol Trans',['nombAerolineaOperado']]='Gol_Trans'\n",
    "df_prep.loc[df_prep['nombAerolineaOperado']=='American Airlines',['nombAerolineaOperado']]='American_Airlines'\n",
    "df_prep.loc[df_prep['nombAerolineaOperado']=='Air Canada',['nombAerolineaOperado']]='Air_Canada'\n",
    "df_prep.loc[df_prep['nombAerolineaOperado']=='Delta Air',['nombAerolineaOperado']]='Delta_Air'\n",
    "df_prep.loc[df_prep['nombAerolineaOperado']=='Air France',['nombAerolineaOperado']]='Air_France'\n",
    "df_prep.loc[df_prep['nombAerolineaOperado']=='United Airlines',['nombAerolineaOperado']]='United_Airlines'\n",
    "df_prep.loc[df_prep['nombAerolineaOperado']=='Oceanair Linhas Aereas',['nombAerolineaOperado']]='Oceanair_Linhas_Aereas'\n",
    "df_prep.loc[df_prep['nombAerolineaOperado']=='K.L.M.',['nombAerolineaOperado']]='K_L_M'\n",
    "df_prep.loc[df_prep['nombAerolineaOperado']=='British Airways',['nombAerolineaOperado']]='British_Airways'\n",
    "df_prep.loc[df_prep['nombAerolineaOperado']=='Qantas Airways',['nombAerolineaOperado']]='Qantas_Airways'\n",
    "df_prep.loc[df_prep['nombAerolineaOperado']=='Plus Ultra Lineas Aereas',['nombAerolineaOperado']]='Plus_Ultra_Lineas_Aereas'"
   ]
  },
  {
   "cell_type": "code",
   "execution_count": null,
   "metadata": {
    "colab": {
     "base_uri": "https://localhost:8080/"
    },
    "id": "p2BZCIRAgjrd",
    "outputId": "a06a3251-c0fb-4033-ba7e-70a744349de3"
   },
   "outputs": [],
   "source": [
    "cross_target(df_prep,'nombAerolineaOperado','atraso_15')"
   ]
  },
  {
   "cell_type": "markdown",
   "metadata": {
    "id": "Bd4VlYwAgqdE"
   },
   "source": [
    "- Se observa que la categoria **Grupo LATAM** tiene un **59.9%** del total de vuelos y un **17.86%** de conversión con respecto al target.\n",
    "- Se observa que la categoria **Sky Airline** tiene un **20.9%** de total de vuelos y **17.7%** de conversión con respecto al target.\n",
    "\n"
   ]
  },
  {
   "cell_type": "markdown",
   "metadata": {
    "id": "B19e_CkIUlrW"
   },
   "source": [
    "#### Codigo de la aerolínea del vuelo Operado"
   ]
  },
  {
   "cell_type": "code",
   "execution_count": null,
   "metadata": {
    "colab": {
     "base_uri": "https://localhost:8080/"
    },
    "id": "KPoIKL0jaftt",
    "outputId": "ebef6dab-9d84-460a-f024-761e62c700e5"
   },
   "outputs": [],
   "source": [
    "cross_target(df_prep,'codAerolineaVuelOperado','atraso_15')"
   ]
  },
  {
   "cell_type": "markdown",
   "metadata": {
    "id": "iP1NP8crU6pd"
   },
   "source": [
    "Se decide agrupar las categorías según su **ratio del total de vuelos**. Se construye la categoría **OTRO** conformada por todos los codigo de aerolinea de vuelo programada que no son **LAN, LXP, SKU, TAM**. Se decide dejar la categoria TAM porque su tasa de atraso es alta."
   ]
  },
  {
   "cell_type": "code",
   "execution_count": null,
   "metadata": {
    "id": "GZvO53iYbAIa"
   },
   "outputs": [],
   "source": [
    "def fx_codAeroVueloOper(x):\n",
    "    if x in ['LAN','LXP','SKU','TAM']:\n",
    "        return x\n",
    "    else:\n",
    "        return 'OTRO'\n",
    "\n",
    "df_prep['codAerolineaVuelOperado'] = df_prep['codAerolineaVuelOperado'].apply(lambda x: fx_codAeroVueloOper(x))"
   ]
  },
  {
   "cell_type": "code",
   "execution_count": null,
   "metadata": {
    "colab": {
     "base_uri": "https://localhost:8080/"
    },
    "id": "b2nKSQgcbNjF",
    "outputId": "7bc8c751-e79c-4c01-9307-9e9998884d43"
   },
   "outputs": [],
   "source": [
    "cross_target(df_prep,'codAerolineaVuelOperado','atraso_15')"
   ]
  },
  {
   "cell_type": "markdown",
   "metadata": {
    "id": "Q0Dqxy68bXRA"
   },
   "source": [
    "- Se observa que la categoria **LAN** tiene un **30%** del total de vuelos y un **18.4%** de conversión con respecto al target.\n",
    "- Se observa que la categoria **SKU** tiene un **21%** de total de vuelos y **17.7%** de conversión con respecto al target.\n",
    "- Se observa que la categoria **LXP** tiene un **21%** de total de vuelos y **14.2%** de conversión con respecto al target.\n",
    "- Se observa que la categoria **TAM** tiene un **4.4%** del total de vuelos y un **25.7%** de conversión con respecto al target. Se aprecia que a pesar de tener una poca cantidad de registros, tiene un alto nivel de conversión con respecto al target, esto ayudará a diferenciar una clase de otra\n",
    "- La categoria **OTRO** al ser agrupada paso a tener un alto ratio de conversión, esto es mejor que tener una alta variabilidad con el resto de categorias"
   ]
  },
  {
   "cell_type": "markdown",
   "metadata": {
    "id": "1o7En5rLd5nT"
   },
   "source": [
    "Por otro lado se puede observar que el codigo de la aerolinea de programación y operación son diferentes una de otra es por eso que se creó la variable **cambioCodAerolineaVuelo** con el objetivo de medir esta variabilidad."
   ]
  },
  {
   "cell_type": "markdown",
   "metadata": {
    "id": "8GCPfRDPPoZT"
   },
   "source": [
    "#### Codigo de la aerolínea del vuelo Programado"
   ]
  },
  {
   "cell_type": "code",
   "execution_count": null,
   "metadata": {
    "colab": {
     "base_uri": "https://localhost:8080/"
    },
    "id": "PQDvixir4MqW",
    "outputId": "f0f1dcec-8cf1-40d6-bf52-358aea879567"
   },
   "outputs": [],
   "source": [
    "cross_target(df_prep,'codAerolineaVuelProg','atraso_15')"
   ]
  },
  {
   "cell_type": "markdown",
   "metadata": {
    "id": "sEr9wWVjQg3i"
   },
   "source": [
    "Se decide agrupar las categorías según su **ratio del total de vuelos**. Se construye la categoría **OTRO** conformada por todos los codigo de aerolinea de vuelo programada que no son **LAN, SKU, TAM**. Se decide dejar la categoria TAM porque su tasa de atraso es alta."
   ]
  },
  {
   "cell_type": "code",
   "execution_count": null,
   "metadata": {
    "id": "4KQZpfuE33ZJ"
   },
   "outputs": [],
   "source": [
    "def fx_codAeroVueloProg(x):\n",
    "    if x in ['LAN','SKU','TAM']:\n",
    "        return x\n",
    "    else:\n",
    "        return 'OTRO'\n",
    "\n",
    "df_prep['codAerolineaVuelProg'] = df_prep['codAerolineaVuelProg'].apply(lambda x: fx_codAeroVueloProg(x))"
   ]
  },
  {
   "cell_type": "code",
   "execution_count": null,
   "metadata": {
    "colab": {
     "base_uri": "https://localhost:8080/"
    },
    "id": "yuBB5-MZYNWx",
    "outputId": "8653f2f1-27ab-4a71-98b9-cc34c3d6e59b"
   },
   "outputs": [],
   "source": [
    "cross_target(df_prep,'codAerolineaVuelProg','atraso_15')"
   ]
  },
  {
   "cell_type": "markdown",
   "metadata": {
    "id": "yUa4bweWY3sx"
   },
   "source": [
    "- Se observa que la categoria **LAN** tiene un **55%** del total de vuelos y un **17%** de conversión con respecto al target.\n",
    "- Se observa que la categoria **SKU** tiene un **21%** de total de vuelos y **18%** de conversión con respecto al target.\n",
    "- Se observa que la categoria **TAM** tiene un **4.4%** del total de vuelos y un **26%** de conversión con respecto al target. **Se aprecia que a pesar de tener una poca cantidad de registros, tiene un alto nivel de conversión con respecto al target, esto ayudará a diferenciar una clase de otra\n",
    "- La categoria **OTRO** al ser agrupada paso a tener un alto ratio de conversión, esto es mejor que tener una alta variabilidad con el resto de categorias"
   ]
  },
  {
   "cell_type": "markdown",
   "metadata": {
    "id": "vmzhEWUwbNH0"
   },
   "source": [
    "### Variables constantes o de varianza nula"
   ]
  },
  {
   "cell_type": "markdown",
   "metadata": {
    "id": "CUiuXGl6bYR_"
   },
   "source": [
    "Acá se podría incluir las variables constante o de varianza nula como:\n",
    "- **codCiudadOrigenProg**\n",
    "- **codCiudadOrigenOperado**\n",
    "- **nomCiudadOrigen**\n",
    "- **anioVuelOperado**\n",
    "\n",
    "Estas variables previamente ya han sido eliminados en la sección correspondiente, sin embargo podrían incluirse en este paso."
   ]
  },
  {
   "cell_type": "markdown",
   "metadata": {
    "id": "uh9Gmd0Keoux"
   },
   "source": [
    "### Variables Binarias"
   ]
  },
  {
   "cell_type": "markdown",
   "metadata": {
    "id": "eUKC2y-bfsQP"
   },
   "source": [
    "Estos datos deben ser transformados en valores cuantitativas para que puedan ingresar al modelo"
   ]
  },
  {
   "cell_type": "code",
   "execution_count": null,
   "metadata": {
    "id": "jE21Ll7se2hs"
   },
   "outputs": [],
   "source": [
    "dicc_tipVuelo = {'N': 0,'I': 1}\n",
    "\n",
    "df_prep['tipVuelo'] = df_prep['tipVuelo'].map(dicc_tipVuelo)\n",
    "df_prep['tipVuelo'] = df_prep['tipVuelo'].astype('int64')"
   ]
  },
  {
   "cell_type": "code",
   "execution_count": null,
   "metadata": {
    "id": "9ay3aYLbr_Qh"
   },
   "outputs": [],
   "source": [
    "dicc_condMeteorologica = {'NO': 0,'SI': 1}\n",
    "\n",
    "df_prep['condMeteorologica'] = df_prep['condMeteorologica'].map(dicc_condMeteorologica)\n",
    "df_prep['condMeteorologica'] = df_prep['condMeteorologica'].astype('int64')"
   ]
  },
  {
   "cell_type": "markdown",
   "metadata": {
    "id": "USJcDLJJsxxR"
   },
   "source": [
    "Transformacion de datos del tipo string a int64"
   ]
  },
  {
   "cell_type": "code",
   "execution_count": null,
   "metadata": {
    "id": "rtg1P73ffFqJ"
   },
   "outputs": [],
   "source": [
    "df_prep['temporada_alta'] = df_prep['temporada_alta'].astype('int64')\n",
    "df_prep['cambioNroVuelo'] = df_prep['cambioNroVuelo'].astype('int64')\n",
    "df_prep['cambioCodAerolineaVuelo'] = df_prep['cambioCodAerolineaVuelo'].astype('int64')"
   ]
  },
  {
   "cell_type": "markdown",
   "metadata": {
    "id": "NewuuU5cnk4v"
   },
   "source": [
    "### Variables según su naturaleza: Cualitativa ordinal"
   ]
  },
  {
   "cell_type": "markdown",
   "metadata": {
    "id": "9w9v-ebTt4od"
   },
   "source": [
    "#### Dia de la semana"
   ]
  },
  {
   "cell_type": "code",
   "execution_count": null,
   "metadata": {
    "colab": {
     "base_uri": "https://localhost:8080/"
    },
    "id": "Cl672JvxdcjO",
    "outputId": "9545fc2d-2d1e-477e-aa51-f4098e1a521e"
   },
   "outputs": [],
   "source": [
    "cross_target(df_prep,'diaSemVuelOperado','atraso_15')"
   ]
  },
  {
   "cell_type": "markdown",
   "metadata": {
    "id": "6YtLD1Mgdpyj"
   },
   "source": [
    "La proporción de viajes en cuanto al dia de semana no tiene mucha diferencia, son proporciones muy equitativas. Sin embargo su ratio de conversión es mayor los **Lunes, Jueves y Viernes** que los **Martes, Miercoles, Sabado y Domingo**\n",
    "\n",
    "Por otro lado observamos que la variable es del tipo ordinal, conservamos su naturaleza."
   ]
  },
  {
   "cell_type": "code",
   "execution_count": null,
   "metadata": {
    "id": "DU3obpL4V4H-"
   },
   "outputs": [],
   "source": [
    "dicc_diaSem = {'Lunes': 0,\n",
    "               'Martes': 1,\n",
    "               'Miercoles':2,\n",
    "               'Jueves':3,\n",
    "               'Viernes':4,\n",
    "               'Sabado': 5, \n",
    "               'Domingo':6\n",
    "               }\n",
    "\n",
    "df_prep['diaSemVuelOperado'] = df_prep['diaSemVuelOperado'].map(dicc_diaSem)\n",
    "df_prep['diaSemVuelOperado'] = df_prep['diaSemVuelOperado'].astype('int64')"
   ]
  },
  {
   "cell_type": "markdown",
   "metadata": {
    "id": "hsCA6S-EuesL"
   },
   "source": [
    "#### Partes del dia (periodo_dia)"
   ]
  },
  {
   "cell_type": "code",
   "execution_count": null,
   "metadata": {
    "colab": {
     "base_uri": "https://localhost:8080/"
    },
    "id": "6CkB9kAbYGgN",
    "outputId": "a13f12f5-df23-4fc5-b574-0772fe12ed3d"
   },
   "outputs": [],
   "source": [
    "cross_target(df_prep,'periodo_dia','atraso_15')"
   ]
  },
  {
   "cell_type": "markdown",
   "metadata": {
    "id": "cEOhZDOnY0C7"
   },
   "source": [
    "Se observa que la mayoria de las personas prefiere viajar por la **mañana** y la **tarde**. Siendo la de menor preferencia por la **noche**, sin embargo la esta categoria tiene un mayor ratio de conversión con respecto al target, **es decir tiene una mayor tasa de retraso**"
   ]
  },
  {
   "cell_type": "code",
   "execution_count": null,
   "metadata": {
    "id": "_VdcoeJUWqCS"
   },
   "outputs": [],
   "source": [
    "dicc_periodo_dia = {'mañana': 0,\n",
    "                    'tarde': 1,\n",
    "                    'noche':2\n",
    "                    }\n",
    "\n",
    "df_prep['periodo_dia'] = df_prep['periodo_dia'].map(dicc_periodo_dia)\n",
    "df_prep['periodo_dia'] = df_prep['periodo_dia'].astype('int64')"
   ]
  },
  {
   "cell_type": "markdown",
   "metadata": {
    "id": "1I5RYfQrZRD5"
   },
   "source": [
    "### Transformacion de Variables Categoricas Nominales a Dummies"
   ]
  },
  {
   "cell_type": "code",
   "execution_count": null,
   "metadata": {
    "colab": {
     "base_uri": "https://localhost:8080/",
     "height": 0
    },
    "id": "VJOEH-zMbJdG",
    "outputId": "05690885-d407-4624-9197-ffc053f7b0c5"
   },
   "outputs": [],
   "source": [
    "df_prep.describe(include=['object','category'])"
   ]
  },
  {
   "cell_type": "code",
   "execution_count": null,
   "metadata": {
    "colab": {
     "base_uri": "https://localhost:8080/"
    },
    "id": "4xyIWEG0ZTz9",
    "outputId": "c5fc3129-2a9e-49ef-96e0-1bf510ff2e6d"
   },
   "outputs": [],
   "source": [
    "vars_str = df_prep.select_dtypes(include=['object','category']).columns.tolist()\n",
    "for var in vars_str:\n",
    "  print(\"N de\",var,\":\",df_prep[var].nunique())"
   ]
  },
  {
   "cell_type": "code",
   "execution_count": null,
   "metadata": {
    "id": "L8mSCIEKZYNe"
   },
   "outputs": [],
   "source": [
    "vars_to_dummies = [\n",
    "#                  'codAerolineaVuelProg',\n",
    "                   'codAerolineaVuelOperado'\n",
    "                   ,'nombAerolineaOperado'\n",
    "#                   ,'codCiudadDestOperado'\n",
    "                    ,'nombCiudadDest'                \n",
    "                    ,'mesVuelOperado'\n",
    "                    ,'horaOperVuelo'\n",
    "                   ]"
   ]
  },
  {
   "cell_type": "code",
   "execution_count": null,
   "metadata": {
    "colab": {
     "base_uri": "https://localhost:8080/",
     "height": 0
    },
    "id": "TRgHF-Jgf4xb",
    "outputId": "0595448c-6d8e-43e6-aac1-e90b96400fc0"
   },
   "outputs": [],
   "source": [
    "df_prep = pd.get_dummies(df_prep, columns = vars_to_dummies,drop_first=True)\n",
    "df_prep.describe(include='all')"
   ]
  },
  {
   "cell_type": "markdown",
   "metadata": {
    "id": "jfd3VSwfK_el"
   },
   "source": [
    "Eliminamos estas variables ya que despues de varias iteraciones están variables guardan una relación lineal. \n",
    "- Se elimina **codAerolineaVuelProg** por **nombAerolineaOperado** y **codAerolineaVuelOperado**.\n",
    "- Se elimina **codCiudadDestOperado** por **nombCiudadDest**."
   ]
  },
  {
   "cell_type": "code",
   "execution_count": null,
   "metadata": {
    "id": "JBGRGS70kGv-"
   },
   "outputs": [],
   "source": [
    "df_prep.drop('codAerolineaVuelProg', axis=1, inplace=True)\n",
    "df_prep.drop('codCiudadDestOperado', axis=1, inplace=True)"
   ]
  },
  {
   "cell_type": "code",
   "execution_count": null,
   "metadata": {
    "colab": {
     "base_uri": "https://localhost:8080/"
    },
    "id": "OHbzzbL_3Av4",
    "outputId": "b7e92f8b-04f1-421e-e4bf-7f5023fafde7"
   },
   "outputs": [],
   "source": [
    "df_prep.shape"
   ]
  },
  {
   "cell_type": "markdown",
   "metadata": {
    "id": "nCEjgl4Gw5nj"
   },
   "source": [
    "# Analisis de Correlación"
   ]
  },
  {
   "cell_type": "code",
   "execution_count": null,
   "metadata": {
    "id": "-KX61YNyxF-G"
   },
   "outputs": [],
   "source": [
    "var_cor=list(df_prep.columns)\n",
    "var_cor.remove('fecVuelProg')\n",
    "var_cor.remove('fecVuelOperado')"
   ]
  },
  {
   "cell_type": "code",
   "execution_count": null,
   "metadata": {
    "colab": {
     "base_uri": "https://localhost:8080/"
    },
    "id": "2IrIH5tWy_0D",
    "outputId": "3ca2b3a9-0add-464b-9a4e-f190b178fe60"
   },
   "outputs": [],
   "source": [
    "df_prep.corrwith(df_prep[\"atraso_15\"]).sort_values()"
   ]
  },
  {
   "cell_type": "markdown",
   "metadata": {
    "id": "q3f8TW6yzjCE"
   },
   "source": [
    "Vamos a retirar la variable **dif_min** porque el **target** se calcula a partir de esta"
   ]
  },
  {
   "cell_type": "code",
   "execution_count": null,
   "metadata": {
    "id": "8RQ7qa5NnelT"
   },
   "outputs": [],
   "source": [
    "df_prep.drop('dif_min', axis=1, inplace=True)"
   ]
  },
  {
   "cell_type": "markdown",
   "metadata": {
    "id": "Id2bzs9tntgn"
   },
   "source": [
    "Se calcula un gráfico de correlación entre todas las variables"
   ]
  },
  {
   "cell_type": "code",
   "execution_count": null,
   "metadata": {
    "id": "_837lK8i4-Ez"
   },
   "outputs": [],
   "source": [
    "def correlation_heatmap(df):\n",
    "    \"\"\"Función para plotear las correlaciones de las variables de un dataset\"\"\"\n",
    "    \n",
    "    _ , ax = plt.subplots(figsize =(40, 40))\n",
    "    colormap = sns.diverging_palette(220, 10, as_cmap = True)\n",
    "    \n",
    "    _ = sns.heatmap(\n",
    "        df.corr(), \n",
    "        cmap = colormap,\n",
    "        square=True, \n",
    "        cbar_kws={'shrink':.9 }\n",
    "    )\n",
    "    plt.title('Pearson Correlation of Features', y=1.05, size=15)"
   ]
  },
  {
   "cell_type": "code",
   "execution_count": null,
   "metadata": {
    "colab": {
     "base_uri": "https://localhost:8080/",
     "height": 1000
    },
    "id": "eeoYQbci4Zmk",
    "outputId": "977a78e9-a01f-4446-dcb5-96a18436521c"
   },
   "outputs": [],
   "source": [
    "correlation_heatmap(df_prep)"
   ]
  },
  {
   "cell_type": "markdown",
   "metadata": {
    "id": "3b4qugdA7fcZ"
   },
   "source": [
    "Se retiran las variables que estan correlacionadas para no afectar la predictibilidad del modelo final. Se toman en cuenta una alta positiva correlación (color rojo intenso) y una alta negativa correlación (color verde intenso)\n",
    "\n",
    "Estas variables serán retiradas automaticamente empleado pycaret con el parámetro **remove_multicollinearity=True** siendo el valor del **threshold de 0.8**"
   ]
  },
  {
   "cell_type": "code",
   "execution_count": null,
   "metadata": {
    "id": "5pUM5FN3sROt"
   },
   "outputs": [],
   "source": [
    "#df_prep.drop('mesVuelOperado_7', axis=1, inplace=True)\n",
    "#df_prep.drop('mesVuelOperado_12', axis=1, inplace=True)\n",
    "#df_prep.drop('codAerolineaVuelOperadp_LXP', axis=1, inplace=True)\n",
    "#df_prep.drop('codAerolineaVuelOperado_SKU', axis=1, inplace=True)\n",
    "#df_prep.drop('nombCiudadDest_Ciudad_de_Panana', axis=1, inplace=True)"
   ]
  },
  {
   "cell_type": "markdown",
   "metadata": {
    "id": "YbEPt_-qiSfG"
   },
   "source": [
    "# Modelado"
   ]
  },
  {
   "cell_type": "markdown",
   "metadata": {
    "id": "bTD1bM-dMSuq"
   },
   "source": [
    "#### Definir los datos del modelo"
   ]
  },
  {
   "cell_type": "markdown",
   "metadata": {
    "id": "0BqwgqYuMHHj"
   },
   "source": [
    "Se realiza una copia del dataframe empleado en la preparación de los datos"
   ]
  },
  {
   "cell_type": "code",
   "execution_count": null,
   "metadata": {
    "id": "pZAX2t58LSZn"
   },
   "outputs": [],
   "source": [
    "df_model = df_prep.copy()"
   ]
  },
  {
   "cell_type": "code",
   "execution_count": null,
   "metadata": {
    "colab": {
     "base_uri": "https://localhost:8080/"
    },
    "id": "W2l3TlnOLSdQ",
    "outputId": "d14e42e3-5ec1-418d-d051-f37a9cd29e51"
   },
   "outputs": [],
   "source": [
    "df_model.shape"
   ]
  },
  {
   "cell_type": "markdown",
   "metadata": {
    "id": "o2tAhDCxLdNE"
   },
   "source": [
    "Seleccionando las variables empleadas para el modelado"
   ]
  },
  {
   "cell_type": "code",
   "execution_count": null,
   "metadata": {
    "id": "Jk2vNj1VLhVi"
   },
   "outputs": [],
   "source": [
    "var_to_select=list(df_model.columns)\n",
    "var_to_select.remove('fecVuelProg')\n",
    "var_to_select.remove('fecVuelOperado')"
   ]
  },
  {
   "cell_type": "code",
   "execution_count": null,
   "metadata": {
    "id": "5EX2L_2pL8ZI"
   },
   "outputs": [],
   "source": [
    "df_model = df_model[var_to_select]"
   ]
  },
  {
   "cell_type": "code",
   "execution_count": null,
   "metadata": {
    "colab": {
     "base_uri": "https://localhost:8080/"
    },
    "id": "IfOnHzZiMDVT",
    "outputId": "8b908f90-4eba-4914-ce9e-2f1b25fc8fd8"
   },
   "outputs": [],
   "source": [
    "df_model.shape"
   ]
  },
  {
   "cell_type": "markdown",
   "metadata": {
    "id": "RfqyJ0cWH3GW"
   },
   "source": [
    "Para realizar la etapa de aprendizaje y evaluación se emplea la librería **pycaret**. Este framework automatiza el proceso de aprendizaje y evaluación ya que podemos crear un experimento definiendo los valores de un conjunto de hiperparamétros establecidos"
   ]
  },
  {
   "cell_type": "markdown",
   "metadata": {
    "id": "Y62nXCg4HUxJ"
   },
   "source": [
    "#### Definir la configuración del experimento"
   ]
  },
  {
   "cell_type": "markdown",
   "metadata": {
    "id": "-wRhgCKkPhKd"
   },
   "source": [
    "Agrupar las variables por tipo de dato"
   ]
  },
  {
   "cell_type": "code",
   "execution_count": null,
   "metadata": {
    "id": "u8xRyYEMNRs_"
   },
   "outputs": [],
   "source": [
    "feat_categorical_model=list(df_model.columns.values)\n",
    "feat_categorical_model.remove('atraso_15')\n",
    "#feat_numerical_model=['dif_min']"
   ]
  },
  {
   "cell_type": "markdown",
   "metadata": {
    "id": "bBlDMYsxPooD"
   },
   "source": [
    "Definir los valores de los hiperparametros"
   ]
  },
  {
   "cell_type": "code",
   "execution_count": null,
   "metadata": {
    "colab": {
     "base_uri": "https://localhost:8080/",
     "height": 1000,
     "referenced_widgets": [
      "6912161abaeb418ab829c186136244dd",
      "4bcb060cb0974305880d1a02dcf4fd67",
      "85f4b45c79db437fbf05f40f46678904",
      "e289747a29f54e8ba870592a5b3b5ef9",
      "ce927afa72f645fe848cbe86ab7f09f6",
      "6a24294d76ea4f6db860fa37a97fab80"
     ]
    },
    "id": "YhKig583_MS_",
    "outputId": "cf3eeedb-e238-428a-998b-c8e158747cc9"
   },
   "outputs": [],
   "source": [
    "from pycaret.classification import *\n",
    "\n",
    "model_clf1 = setup(data=df_model,\n",
    "                   target = 'atraso_15',\n",
    "                   session_id=123,\n",
    "                   train_size=0.75,\n",
    "                   categorical_features=feat_categorical_model,\n",
    "                   #numeric_features=feat_numerical_model,\n",
    "                   remove_multicollinearity=True,\n",
    "                   multicollinearity_threshold=0.7,\n",
    "                   fold=5,\n",
    "                   fold_shuffle=True,\n",
    "                   fold_strategy='stratifiedkfold',\n",
    "                   combine_rare_levels=True,\n",
    "                   feature_selection=True,\n",
    "                   fix_imbalance=True\n",
    "                   )"
   ]
  },
  {
   "cell_type": "markdown",
   "metadata": {
    "id": "Qm3BLuCEIv6g"
   },
   "source": [
    "#### Comparar los modelos"
   ]
  },
  {
   "cell_type": "markdown",
   "metadata": {
    "id": "F3qIZhNtbnY6"
   },
   "source": [
    "Una vez definido los valores de los hiperparametros del experimento se realiza la comparación con diferentes algoritmos de machine learning"
   ]
  },
  {
   "cell_type": "code",
   "execution_count": null,
   "metadata": {
    "colab": {
     "base_uri": "https://localhost:8080/",
     "height": 766,
     "referenced_widgets": [
      "4c9b693a27b24c1884855c2841fa1697",
      "cb97b7832ea847e2a3bee67dcbd38e6f",
      "c6bff03511fb4593b6531a36eaae92a9"
     ]
    },
    "id": "GQx4YtmC_MWb",
    "outputId": "0391eb0f-c5a1-4ea9-92ec-d7ebe13aef54"
   },
   "outputs": [],
   "source": [
    "compare_models()"
   ]
  },
  {
   "cell_type": "markdown",
   "metadata": {
    "id": "FDMI6PVDNVa9"
   },
   "source": [
    "Según el desafio se debe entrenar uno o varios modelos (usando los algoritmos de preferencia) para estimar la probabilidad de atraso de un vuelo. En ese sentido se utilizó pycaret para probar diferentes algoritmos de aprendizaje automatico de clasificación.\n",
    "\n",
    "Tomando en cuenta dos algoritmos que nos ayudarán a entender mejor \n",
    "\n",
    "- El modelo **Light Gradient Boosting Machine (lightgbm)** presenta un alto valor de **Precisión**, sin embargo tiene un bajo valor de **Recall**\n",
    "- El modelo **Logistic Regression (lr)** presenta un menor valor de **Precisión** pero un nivel mayor de **Recall**\n",
    "- **lightgbm** presenta un mejor **roc-auc** que **lr**.\n",
    "\n",
    "**Esta comparación nos permite conocer que algoritmo se debe elegir basado en las métricas que el negocio necesita optimizar**. "
   ]
  },
  {
   "cell_type": "markdown",
   "metadata": {
    "id": "lgOGzXR-mIad"
   },
   "source": [
    "#### Elegir el modelo final"
   ]
  },
  {
   "cell_type": "markdown",
   "metadata": {
    "id": "5xf6FA5VmMzR"
   },
   "source": [
    "En ese escenario elegimos el algoritmo de **regresión logistica** ya que queremos darle importancia al **recall**, COMO NEGOCIO ME PARECE IMPORTANTE DISMINUIR LOS FALSOS NEGATIVOS, CON ELLO AUMENTAR EL RECALL YA QUE NO ESTARÍA BIEN PREDECIR **NO-ATRASO** CUANDO EN LA REALIDAD TERMINA SIENDO **ATRASO**, ESTO ME PARECE MUCHO MÁS IMPORTANTE QUE PREDECIR ATRASO CUANDO EN LA REALIDAD TERMINE SIENDO NO-ATRASO\n",
    "\n",
    "Así mismo esto ayudaría en mejorar el accuracy del modelo\n",
    " "
   ]
  },
  {
   "cell_type": "code",
   "execution_count": null,
   "metadata": {
    "colab": {
     "base_uri": "https://localhost:8080/",
     "height": 457,
     "referenced_widgets": [
      "043723b259f44136889717305fd9bc36",
      "6c6ef5e1c0184199a3c6b13558611b13",
      "69639314bdb94dc3a79fe0cfda02978b"
     ]
    },
    "id": "poJjUKjxlWAJ",
    "outputId": "49259b17-e781-4e61-ec19-0c62444bb365"
   },
   "outputs": [],
   "source": [
    "lr_model = create_model('lr')"
   ]
  },
  {
   "cell_type": "code",
   "execution_count": null,
   "metadata": {
    "id": "cH9YeoCZwXvj"
   },
   "outputs": [],
   "source": [
    "lr_model.estimators_"
   ]
  },
  {
   "cell_type": "markdown",
   "metadata": {
    "id": "EY8AgJhzbajv"
   },
   "source": [
    "\n",
    "Tener en cuenta lo siguiente:\n",
    "\n",
    "- **Precision**: la precisión es el ratio o porcentaje de clasificaciones correctas del clasificador. En otras palabras, **de todo lo que el clasificador clasifica como positivo, correcta o incorrectamente (TP + FP), cual es el ratio de clasificaciones correctas**.\n",
    "\n",
    "- **Recall**: el recall o sensibilidad del modelo es el ratio de positivos detectado en el dataset por nuestro clasificador. En otras palabras, **de todos los positivos reales del dataset, detectados o no (TP + FN), cual es el ratio de positivos detectados**.\n",
    "\n",
    "- **PR-curve** La curva PR es el resultado de dibujar la gráfica entre el precision y el recall. Esta gráfica nos permite ver a partir de qué recall tenemos una degradación de la precisión y viceversa. Lo ideal sería una curva que se acerque lo máximo posible a la esquina superior derecha (alta precisión y alto recall).\n",
    "\n",
    "- **ROC-AUC** Relaciona el recall con el ratio de falsos positivos. Es decir relaciona la sensibilidad del modelo con los fallos optimistas (clasificar los negativos como positivos). Tiene sentido ya que, generalmente, si aumentamos el recall, el modelo tenderá a ser más optimista e introducirá mas falsos positivos en la clasificación. De manera similar al Average Precision, nos interesa que su valor se acerque lo máximo posible a 1.\n",
    "\n",
    "- Finalmente Por lo general, usaremos la curva PR o el Average Precision cuando tengamos problemas de datasets no balanceados, es decir, cuando la clase positiva ocurre pocas veces. Cuando hay pocos ejemplos positivos, la curva ROC o el ROC AUC puede dar un valor alto, sin embargo, la curva PR estará lejos de su valor óptimo, poniendo de manifiesto un indicador de precisión relacionado con la baja probabilidad de la clase positiva. Será una opción interesante usar la curva ROC y el ROC AUC cuando tengamos un dataset más balanceado o queramos poner de manifiesto un indicador más relacionado con falsas alarmas (falsos positivos"
   ]
  },
  {
   "cell_type": "markdown",
   "metadata": {
    "id": "S8okjZ0MPvji"
   },
   "source": [
    "# Analizar el modelo"
   ]
  },
  {
   "cell_type": "markdown",
   "metadata": {
    "id": "kRoL9YEpxC57"
   },
   "source": [
    "**Curva ROC-AUC**"
   ]
  },
  {
   "cell_type": "code",
   "execution_count": null,
   "metadata": {
    "colab": {
     "base_uri": "https://localhost:8080/",
     "height": 411
    },
    "id": "FsJtnOSj_MjS",
    "outputId": "f7fde917-23fa-4aa7-a039-276133b1749b"
   },
   "outputs": [],
   "source": [
    "plot_model(lr_model)"
   ]
  },
  {
   "cell_type": "markdown",
   "metadata": {
    "id": "MDSg-vZlwcDk"
   },
   "source": [
    "Se observa que el área bajo la curva (AUC) es 0.71"
   ]
  },
  {
   "cell_type": "markdown",
   "metadata": {
    "id": "3pGBWrTBxOjF"
   },
   "source": [
    "**Matriz de confusión**"
   ]
  },
  {
   "cell_type": "code",
   "execution_count": null,
   "metadata": {
    "colab": {
     "base_uri": "https://localhost:8080/",
     "height": 436
    },
    "id": "YJQWGgxoTj4b",
    "outputId": "72816259-e715-4a8e-df72-2d3be884d981"
   },
   "outputs": [],
   "source": [
    "plot_model(lr_model, plot = 'confusion_matrix')"
   ]
  },
  {
   "cell_type": "markdown",
   "metadata": {
    "id": "2-qfB7dhwue6"
   },
   "source": [
    "Como se menciona para fines del negocio quiero reducir los **FALSOS NEGATIVOS** para optimizar el **recall**."
   ]
  },
  {
   "cell_type": "markdown",
   "metadata": {
    "id": "XxylLkKkt6SS"
   },
   "source": [
    "# Referencias\n",
    "\n",
    "- Pycaret official documentation: https://pycaret.gitbook.io/docs/\n",
    "- Pycaret installation: https://pycaret.gitbook.io/docs/get-started/installation#install-from-pip\n",
    "- PyCaret Classification Module:\n",
    "[1](https://www.pycaret.org/classification)\n",
    "[2](https://pycaret.readthedocs.io/en/stable/api/classification.html)\n",
    "\n",
    "- Binary Classification Tutorial (Level Beginner) : https://pycaret.org/clf101/\n",
    "\n",
    "- Binary Classification Tutorial (Level Intermediate) : https://pycaret.org/clf102/\n",
    "- curve pr and auc-roc: https://medium.com/bluekiri/curvas-pr-y-roc-1489fbd9a527\n",
    "- Nevada en chile en el 2017: https://www.bbc.com/mundo/noticias-america-latina-40620874"
   ]
  }
 ],
 "metadata": {
  "colab": {
   "collapsed_sections": [
    "hYApawMUimxj",
    "rR6cst4N4s0D",
    "17g2AX7w5deG",
    "vDMCpdrm6213",
    "coXb565mF5l1",
    "I4CEdaY5PNCc",
    "70UBHPcP2OVh",
    "40TVrDiEGEKA",
    "x3Kvhwg1fBax",
    "DuKMVqYcO3kT",
    "GA_4byhzycnv",
    "0SJvwMpbyQzD",
    "TM8L44haUlsj",
    "tZ2Fur9KAlEA",
    "1nPJcggKBgBE",
    "oZ2GY7dn_ZjB",
    "mO-c9PCdzD_j",
    "Ilt55Ovjjmom",
    "wTikG9kBrOeK",
    "cze-URQ9k1op",
    "kUxU8EqroLS0",
    "hYFeqOERoUvT",
    "Qa2pB98h9-dg",
    "Jilxy2uY-rse",
    "mc19ENWEofNY",
    "ilA_nIwNTt06",
    "7PYWzd9RTxXR",
    "alTTyzNESPyR",
    "w4IycFKnA74O",
    "cp6dII33u7c6",
    "9zYdvdPswaVJ",
    "HnWPt2sH0RPu",
    "6FCxXErO0Tku",
    "jo-GyxW_0vN_",
    "8FG2FbUH0bnR",
    "ah-yn9DC0XD3",
    "6ia9sbJCymLz",
    "25KaEOti0e9Y",
    "nATLRuIU00g3",
    "PBby2A1PwfP4",
    "M_i7tbS2_V3l",
    "Z-irY8vTq2ym",
    "wRFC5PH2cR3R",
    "Pf_6wvgHw9WP",
    "gxvNJge2hqbF",
    "_TelC4_mORCB",
    "s5G0oVflRZGJ",
    "fQaCrl8xXx5W",
    "8GCPfRDPPoZT",
    "vmzhEWUwbNH0",
    "uh9Gmd0Keoux",
    "NewuuU5cnk4v",
    "9w9v-ebTt4od",
    "hsCA6S-EuesL",
    "1I5RYfQrZRD5",
    "YbEPt_-qiSfG",
    "S8okjZ0MPvji"
   ],
   "provenance": [],
   "toc_visible": true
  },
  "kernelspec": {
   "display_name": "Python 3 (ipykernel)",
   "language": "python",
   "name": "python3"
  },
  "language_info": {
   "codemirror_mode": {
    "name": "ipython",
    "version": 3
   },
   "file_extension": ".py",
   "mimetype": "text/x-python",
   "name": "python",
   "nbconvert_exporter": "python",
   "pygments_lexer": "ipython3",
   "version": "3.7.13"
  },
  "widgets": {
   "application/vnd.jupyter.widget-state+json": {
    "043723b259f44136889717305fd9bc36": {
     "model_module": "@jupyter-widgets/controls",
     "model_module_version": "1.5.0",
     "model_name": "IntProgressModel",
     "state": {
      "_dom_classes": [],
      "_model_module": "@jupyter-widgets/controls",
      "_model_module_version": "1.5.0",
      "_model_name": "IntProgressModel",
      "_view_count": null,
      "_view_module": "@jupyter-widgets/controls",
      "_view_module_version": "1.5.0",
      "_view_name": "ProgressView",
      "bar_style": "",
      "description": "Processing: ",
      "description_tooltip": null,
      "layout": "IPY_MODEL_6c6ef5e1c0184199a3c6b13558611b13",
      "max": 4,
      "min": 0,
      "orientation": "horizontal",
      "style": "IPY_MODEL_69639314bdb94dc3a79fe0cfda02978b",
      "value": 4
     }
    },
    "4bcb060cb0974305880d1a02dcf4fd67": {
     "model_module": "@jupyter-widgets/base",
     "model_module_version": "1.2.0",
     "model_name": "LayoutModel",
     "state": {
      "_model_module": "@jupyter-widgets/base",
      "_model_module_version": "1.2.0",
      "_model_name": "LayoutModel",
      "_view_count": null,
      "_view_module": "@jupyter-widgets/base",
      "_view_module_version": "1.2.0",
      "_view_name": "LayoutView",
      "align_content": null,
      "align_items": null,
      "align_self": null,
      "border": null,
      "bottom": null,
      "display": null,
      "flex": null,
      "flex_flow": null,
      "grid_area": null,
      "grid_auto_columns": null,
      "grid_auto_flow": null,
      "grid_auto_rows": null,
      "grid_column": null,
      "grid_gap": null,
      "grid_row": null,
      "grid_template_areas": null,
      "grid_template_columns": null,
      "grid_template_rows": null,
      "height": null,
      "justify_content": null,
      "justify_items": null,
      "left": null,
      "margin": null,
      "max_height": null,
      "max_width": null,
      "min_height": null,
      "min_width": null,
      "object_fit": null,
      "object_position": null,
      "order": null,
      "overflow": null,
      "overflow_x": null,
      "overflow_y": null,
      "padding": null,
      "right": null,
      "top": null,
      "visibility": null,
      "width": null
     }
    },
    "4c9b693a27b24c1884855c2841fa1697": {
     "model_module": "@jupyter-widgets/controls",
     "model_module_version": "1.5.0",
     "model_name": "IntProgressModel",
     "state": {
      "_dom_classes": [],
      "_model_module": "@jupyter-widgets/controls",
      "_model_module_version": "1.5.0",
      "_model_name": "IntProgressModel",
      "_view_count": null,
      "_view_module": "@jupyter-widgets/controls",
      "_view_module_version": "1.5.0",
      "_view_name": "ProgressView",
      "bar_style": "",
      "description": "Processing: ",
      "description_tooltip": null,
      "layout": "IPY_MODEL_cb97b7832ea847e2a3bee67dcbd38e6f",
      "max": 74,
      "min": 0,
      "orientation": "horizontal",
      "style": "IPY_MODEL_c6bff03511fb4593b6531a36eaae92a9",
      "value": 74
     }
    },
    "6912161abaeb418ab829c186136244dd": {
     "model_module": "@jupyter-widgets/controls",
     "model_module_version": "1.5.0",
     "model_name": "IntProgressModel",
     "state": {
      "_dom_classes": [],
      "_model_module": "@jupyter-widgets/controls",
      "_model_module_version": "1.5.0",
      "_model_name": "IntProgressModel",
      "_view_count": null,
      "_view_module": "@jupyter-widgets/controls",
      "_view_module_version": "1.5.0",
      "_view_name": "ProgressView",
      "bar_style": "",
      "description": "Processing: ",
      "description_tooltip": null,
      "layout": "IPY_MODEL_4bcb060cb0974305880d1a02dcf4fd67",
      "max": 3,
      "min": 0,
      "orientation": "horizontal",
      "style": "IPY_MODEL_85f4b45c79db437fbf05f40f46678904",
      "value": 3
     }
    },
    "69639314bdb94dc3a79fe0cfda02978b": {
     "model_module": "@jupyter-widgets/controls",
     "model_module_version": "1.5.0",
     "model_name": "ProgressStyleModel",
     "state": {
      "_model_module": "@jupyter-widgets/controls",
      "_model_module_version": "1.5.0",
      "_model_name": "ProgressStyleModel",
      "_view_count": null,
      "_view_module": "@jupyter-widgets/base",
      "_view_module_version": "1.2.0",
      "_view_name": "StyleView",
      "bar_color": null,
      "description_width": ""
     }
    },
    "6a24294d76ea4f6db860fa37a97fab80": {
     "model_module": "@jupyter-widgets/controls",
     "model_module_version": "1.5.0",
     "model_name": "DescriptionStyleModel",
     "state": {
      "_model_module": "@jupyter-widgets/controls",
      "_model_module_version": "1.5.0",
      "_model_name": "DescriptionStyleModel",
      "_view_count": null,
      "_view_module": "@jupyter-widgets/base",
      "_view_module_version": "1.2.0",
      "_view_name": "StyleView",
      "description_width": ""
     }
    },
    "6c6ef5e1c0184199a3c6b13558611b13": {
     "model_module": "@jupyter-widgets/base",
     "model_module_version": "1.2.0",
     "model_name": "LayoutModel",
     "state": {
      "_model_module": "@jupyter-widgets/base",
      "_model_module_version": "1.2.0",
      "_model_name": "LayoutModel",
      "_view_count": null,
      "_view_module": "@jupyter-widgets/base",
      "_view_module_version": "1.2.0",
      "_view_name": "LayoutView",
      "align_content": null,
      "align_items": null,
      "align_self": null,
      "border": null,
      "bottom": null,
      "display": null,
      "flex": null,
      "flex_flow": null,
      "grid_area": null,
      "grid_auto_columns": null,
      "grid_auto_flow": null,
      "grid_auto_rows": null,
      "grid_column": null,
      "grid_gap": null,
      "grid_row": null,
      "grid_template_areas": null,
      "grid_template_columns": null,
      "grid_template_rows": null,
      "height": null,
      "justify_content": null,
      "justify_items": null,
      "left": null,
      "margin": null,
      "max_height": null,
      "max_width": null,
      "min_height": null,
      "min_width": null,
      "object_fit": null,
      "object_position": null,
      "order": null,
      "overflow": null,
      "overflow_x": null,
      "overflow_y": null,
      "padding": null,
      "right": null,
      "top": null,
      "visibility": null,
      "width": null
     }
    },
    "85f4b45c79db437fbf05f40f46678904": {
     "model_module": "@jupyter-widgets/controls",
     "model_module_version": "1.5.0",
     "model_name": "ProgressStyleModel",
     "state": {
      "_model_module": "@jupyter-widgets/controls",
      "_model_module_version": "1.5.0",
      "_model_name": "ProgressStyleModel",
      "_view_count": null,
      "_view_module": "@jupyter-widgets/base",
      "_view_module_version": "1.2.0",
      "_view_name": "StyleView",
      "bar_color": null,
      "description_width": ""
     }
    },
    "c6bff03511fb4593b6531a36eaae92a9": {
     "model_module": "@jupyter-widgets/controls",
     "model_module_version": "1.5.0",
     "model_name": "ProgressStyleModel",
     "state": {
      "_model_module": "@jupyter-widgets/controls",
      "_model_module_version": "1.5.0",
      "_model_name": "ProgressStyleModel",
      "_view_count": null,
      "_view_module": "@jupyter-widgets/base",
      "_view_module_version": "1.2.0",
      "_view_name": "StyleView",
      "bar_color": null,
      "description_width": ""
     }
    },
    "cb97b7832ea847e2a3bee67dcbd38e6f": {
     "model_module": "@jupyter-widgets/base",
     "model_module_version": "1.2.0",
     "model_name": "LayoutModel",
     "state": {
      "_model_module": "@jupyter-widgets/base",
      "_model_module_version": "1.2.0",
      "_model_name": "LayoutModel",
      "_view_count": null,
      "_view_module": "@jupyter-widgets/base",
      "_view_module_version": "1.2.0",
      "_view_name": "LayoutView",
      "align_content": null,
      "align_items": null,
      "align_self": null,
      "border": null,
      "bottom": null,
      "display": null,
      "flex": null,
      "flex_flow": null,
      "grid_area": null,
      "grid_auto_columns": null,
      "grid_auto_flow": null,
      "grid_auto_rows": null,
      "grid_column": null,
      "grid_gap": null,
      "grid_row": null,
      "grid_template_areas": null,
      "grid_template_columns": null,
      "grid_template_rows": null,
      "height": null,
      "justify_content": null,
      "justify_items": null,
      "left": null,
      "margin": null,
      "max_height": null,
      "max_width": null,
      "min_height": null,
      "min_width": null,
      "object_fit": null,
      "object_position": null,
      "order": null,
      "overflow": null,
      "overflow_x": null,
      "overflow_y": null,
      "padding": null,
      "right": null,
      "top": null,
      "visibility": null,
      "width": null
     }
    },
    "ce927afa72f645fe848cbe86ab7f09f6": {
     "model_module": "@jupyter-widgets/base",
     "model_module_version": "1.2.0",
     "model_name": "LayoutModel",
     "state": {
      "_model_module": "@jupyter-widgets/base",
      "_model_module_version": "1.2.0",
      "_model_name": "LayoutModel",
      "_view_count": null,
      "_view_module": "@jupyter-widgets/base",
      "_view_module_version": "1.2.0",
      "_view_name": "LayoutView",
      "align_content": null,
      "align_items": null,
      "align_self": null,
      "border": null,
      "bottom": null,
      "display": null,
      "flex": null,
      "flex_flow": null,
      "grid_area": null,
      "grid_auto_columns": null,
      "grid_auto_flow": null,
      "grid_auto_rows": null,
      "grid_column": null,
      "grid_gap": null,
      "grid_row": null,
      "grid_template_areas": null,
      "grid_template_columns": null,
      "grid_template_rows": null,
      "height": null,
      "justify_content": null,
      "justify_items": null,
      "left": null,
      "margin": null,
      "max_height": null,
      "max_width": null,
      "min_height": null,
      "min_width": null,
      "object_fit": null,
      "object_position": null,
      "order": null,
      "overflow": null,
      "overflow_x": null,
      "overflow_y": null,
      "padding": null,
      "right": null,
      "top": null,
      "visibility": null,
      "width": "100%"
     }
    },
    "e289747a29f54e8ba870592a5b3b5ef9": {
     "model_module": "@jupyter-widgets/controls",
     "model_module_version": "1.5.0",
     "model_name": "TextModel",
     "state": {
      "_dom_classes": [],
      "_model_module": "@jupyter-widgets/controls",
      "_model_module_version": "1.5.0",
      "_model_name": "TextModel",
      "_view_count": null,
      "_view_module": "@jupyter-widgets/controls",
      "_view_module_version": "1.5.0",
      "_view_name": "TextView",
      "continuous_update": true,
      "description": "",
      "description_tooltip": null,
      "disabled": false,
      "layout": "IPY_MODEL_ce927afa72f645fe848cbe86ab7f09f6",
      "placeholder": "​",
      "style": "IPY_MODEL_6a24294d76ea4f6db860fa37a97fab80",
      "value": "Following data types have been inferred automatically, if they are correct press enter to continue or type 'quit' otherwise."
     }
    }
   }
  }
 },
 "nbformat": 4,
 "nbformat_minor": 1
}
